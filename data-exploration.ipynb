{
 "cells": [
  {
   "cell_type": "code",
   "execution_count": 2,
   "metadata": {},
   "outputs": [],
   "source": [
    "import pandas as pd\n",
    "import numpy as np\n",
    "import matplotlib as plt\n",
    "%matplotlib inline"
   ]
  },
  {
   "cell_type": "code",
   "execution_count": 13,
   "metadata": {},
   "outputs": [
    {
     "name": "stdout",
     "output_type": "stream",
     "text": [
      "   case_id  id  party_number  victim_age victim_degree_of_injury  \\\n",
      "0      3.0   3             1        21.0               no injury   \n",
      "\n",
      "   victim_ejected  victim_role victim_safety_equipment_1  \\\n",
      "0             0.0            2                         G   \n",
      "\n",
      "  victim_safety_equipment_2  victim_seating_position victim_sex  \n",
      "0                       NaN                      3.0       male  \n"
     ]
    }
   ],
   "source": [
    "victims = pd.read_csv(\"victims2018.csv\").head(1)\n",
    "print(victims)"
   ]
  },
  {
   "cell_type": "code",
   "execution_count": 17,
   "metadata": {},
   "outputs": [
    {
     "name": "stderr",
     "output_type": "stream",
     "text": [
      "C:\\Users\\Harold\\anaconda3\\lib\\site-packages\\IPython\\core\\interactiveshell.py:3146: DtypeWarning: Columns (9) have mixed types.Specify dtype option on import or set low_memory=False.\n",
      "  has_raised = await self.run_ast_nodes(code_ast.body, cell_name,\n"
     ]
    },
    {
     "name": "stdout",
     "output_type": "stream",
     "text": [
      "   case_id collision_date    collision_severity collision_time  \\\n",
      "0      1.0     2002-01-18  property damage only       15:30:00   \n",
      "1      2.0     2002-02-13  property damage only       19:30:00   \n",
      "2      3.0     2002-02-11  property damage only       15:30:00   \n",
      "\n",
      "   county_city_location      hit_and_run  jurisdiction  lighting  \\\n",
      "0                  1900  not hit and run        9575.0  daylight   \n",
      "1                  1500      misdemeanor        9420.0       NaN   \n",
      "2                  1502      misdemeanor        9420.0  daylight   \n",
      "\n",
      "  location_type officer_id  ...  primary_collision_factor process_date  \\\n",
      "0           NaN      16418  ...    vehicle code violation   2002-06-14   \n",
      "1           NaN      14360  ...    vehicle code violation   2002-03-29   \n",
      "2       highway      16117  ...    vehicle code violation   2003-07-15   \n",
      "\n",
      "  ramp_intersection  road_condition_1 road_condition_2 road_surface  tow_away  \\\n",
      "0               NaN            normal              NaN          dry       1.0   \n",
      "1               NaN            normal              NaN          dry       0.0   \n",
      "2               NaN            normal              NaN          dry       0.0   \n",
      "\n",
      "  type_of_collision weather_1 weather_2  \n",
      "0          rear end     clear       NaN  \n",
      "1        hit object     clear       NaN  \n",
      "2        hit object     clear       NaN  \n",
      "\n",
      "[3 rows x 24 columns]\n"
     ]
    }
   ],
   "source": [
    "\n",
    "col =  pd.read_csv(\"collisions2018.csv\").head(3)\n",
    "print(col)"
   ]
  },
  {
   "cell_type": "code",
   "execution_count": 18,
   "metadata": {},
   "outputs": [
    {
     "name": "stderr",
     "output_type": "stream",
     "text": [
      "C:\\Users\\Harold\\anaconda3\\lib\\site-packages\\IPython\\core\\interactiveshell.py:3146: DtypeWarning: Columns (4,13,17) have mixed types.Specify dtype option on import or set low_memory=False.\n",
      "  has_raised = await self.run_ast_nodes(code_ast.body, cell_name,\n"
     ]
    },
    {
     "name": "stdout",
     "output_type": "stream",
     "text": [
      "   at_fault  case_id cellphone_use financial_responsibility  \\\n",
      "0         1      1.0             C                        Y   \n",
      "1         0      1.0             D                        O   \n",
      "2         0      2.0           NaN                        O   \n",
      "3         0      3.0             D                        Y   \n",
      "\n",
      "  hazardous_materials  id movement_preceding_collision  \\\n",
      "0                 NaN   8                        other   \n",
      "1                 NaN   9                       parked   \n",
      "2                 NaN  10          proceeding straight   \n",
      "3                 NaN  11          proceeding straight   \n",
      "\n",
      "  other_associate_factor_1 other_associate_factor_2  party_age  ...  \\\n",
      "0                        L                      NaN       84.0  ...   \n",
      "1                        N                      NaN        NaN  ...   \n",
      "2                        O                      NaN        NaN  ...   \n",
      "3                        N                      NaN       20.0  ...   \n",
      "\n",
      "  party_number  party_safety_equipment_1 party_safety_equipment_2 party_sex  \\\n",
      "0            1                         G                      NaN    female   \n",
      "1            2                       NaN                      NaN       NaN   \n",
      "2            1                       NaN                      NaN       NaN   \n",
      "3            1                         G                      NaN    female   \n",
      "\n",
      "  party_sobriety      party_type school_bus_related statewide_vehicle_type  \\\n",
      "0              A          driver                NaN          passenger car   \n",
      "1              H  parked vehicle                NaN          passenger car   \n",
      "2              H           other                NaN  pickup or panel truck   \n",
      "3              A          driver                NaN          passenger car   \n",
      "\n",
      "  vehicle_make vehicle_year  \n",
      "0         FORD       2000.0  \n",
      "1        BUICK       1992.0  \n",
      "2       TOYOTA          NaN  \n",
      "3         FORD       1995.0  \n",
      "\n",
      "[4 rows x 21 columns]\n"
     ]
    }
   ],
   "source": [
    "\n",
    "parties = pd.read_csv(\"parties2018.csv\").head(4)\n",
    "print(parties)"
   ]
  },
  {
   "cell_type": "markdown",
   "metadata": {},
   "source": [
    "# Transforming strings of collision_severity into the integer code given in the project description"
   ]
  },
  {
   "cell_type": "code",
   "execution_count": 14,
   "metadata": {},
   "outputs": [],
   "source": [
    "def collision_severity_translate(s):\n",
    "    dic = {'fatal':1, 'severe injury':2, 'other injury':3,\n",
    "           'pain':4, 'property damage only':5\n",
    "    }\n",
    "    if s in dic:\n",
    "        return dic[s]\n",
    "    else:\n",
    "        return numpy.nan"
   ]
  },
  {
   "cell_type": "code",
   "execution_count": 15,
   "metadata": {},
   "outputs": [],
   "source": [
    "col['collision_severity'] = col['collision_severity'].apply(lambda s : collision_severity_translate(s))"
   ]
  },
  {
   "cell_type": "code",
   "execution_count": 16,
   "metadata": {},
   "outputs": [
    {
     "name": "stdout",
     "output_type": "stream",
     "text": [
      "   case_id collision_date  collision_severity collision_time  \\\n",
      "0      1.0     2002-01-18                   5       15:30:00   \n",
      "\n",
      "   county_city_location      hit_and_run  jurisdiction  lighting  \\\n",
      "0                  1900  not hit and run        9575.0  daylight   \n",
      "\n",
      "  location_type officer_id  ...  primary_collision_factor process_date  \\\n",
      "0           NaN      16418  ...    vehicle code violation   2002-06-14   \n",
      "\n",
      "  ramp_intersection  road_condition_1 road_condition_2 road_surface  tow_away  \\\n",
      "0               NaN            normal              NaN          dry       1.0   \n",
      "\n",
      "  type_of_collision weather_1 weather_2  \n",
      "0          rear end     clear       NaN  \n",
      "\n",
      "[1 rows x 24 columns]\n"
     ]
    }
   ],
   "source": [
    "print(col)"
   ]
  }
 ],
 "metadata": {
  "kernelspec": {
   "display_name": "Python 3",
   "language": "python",
   "name": "python3"
  },
  "language_info": {
   "codemirror_mode": {
    "name": "ipython",
    "version": 3
   },
   "file_extension": ".py",
   "mimetype": "text/x-python",
   "name": "python",
   "nbconvert_exporter": "python",
   "pygments_lexer": "ipython3",
   "version": "3.8.5"
  }
 },
 "nbformat": 4,
 "nbformat_minor": 4
}
