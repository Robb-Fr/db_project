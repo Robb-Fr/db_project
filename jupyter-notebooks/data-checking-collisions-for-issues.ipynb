{
 "cells": [
  {
   "cell_type": "code",
   "execution_count": 1,
   "metadata": {},
   "outputs": [],
   "source": [
    "import pandas as pd\n",
    "import numpy as np\n",
    "import matplotlib as plt\n",
    "%matplotlib inline"
   ]
  },
  {
   "cell_type": "code",
   "execution_count": 2,
   "metadata": {
    "scrolled": true
   },
   "outputs": [
    {
     "name": "stderr",
     "output_type": "stream",
     "text": [
      "C:\\Users\\Harold\\anaconda3\\lib\\site-packages\\IPython\\core\\interactiveshell.py:3146: DtypeWarning: Columns (8) have mixed types.Specify dtype option on import or set low_memory=False.\n",
      "  has_raised = await self.run_ast_nodes(code_ast.body, cell_name,\n",
      "C:\\Users\\Harold\\anaconda3\\lib\\site-packages\\IPython\\core\\interactiveshell.py:3146: DtypeWarning: Columns (9) have mixed types.Specify dtype option on import or set low_memory=False.\n",
      "  has_raised = await self.run_ast_nodes(code_ast.body, cell_name,\n",
      "C:\\Users\\Harold\\anaconda3\\lib\\site-packages\\IPython\\core\\interactiveshell.py:3146: DtypeWarning: Columns (4,13,17) have mixed types.Specify dtype option on import or set low_memory=False.\n",
      "  has_raised = await self.run_ast_nodes(code_ast.body, cell_name,\n"
     ]
    }
   ],
   "source": [
    "victims = pd.read_csv(\"../victims2018.csv\")\n",
    "col =  pd.read_csv(\"../collisions2018.csv\")\n",
    "parties = pd.read_csv(\"../parties2018.csv\")"
   ]
  },
  {
   "cell_type": "markdown",
   "metadata": {},
   "source": [
    "## Utility functions"
   ]
  },
  {
   "cell_type": "code",
   "execution_count": null,
   "metadata": {},
   "outputs": [],
   "source": [
    "def check_set(name,alphanumeric)"
   ]
  },
  {
   "cell_type": "markdown",
   "metadata": {},
   "source": [
    "## Collision_severity"
   ]
  },
  {
   "cell_type": "code",
   "execution_count": 3,
   "metadata": {},
   "outputs": [],
   "source": [
    "def collision_severity_translate(s):\n",
    "    dic = {'fatal':1, 'severe injury':2, 'other injury':3,\n",
    "           'pain':4, 'property damage only':5\n",
    "    }\n",
    "    if s in dic:\n",
    "        return dic[s]\n",
    "    else:\n",
    "        return numpy.nan"
   ]
  },
  {
   "cell_type": "code",
   "execution_count": 4,
   "metadata": {},
   "outputs": [],
   "source": [
    "df = col.copy()"
   ]
  },
  {
   "cell_type": "code",
   "execution_count": 5,
   "metadata": {},
   "outputs": [
    {
     "ename": "NameError",
     "evalue": "name 'col_copy' is not defined",
     "output_type": "error",
     "traceback": [
      "\u001b[1;31m---------------------------------------------------------------------------\u001b[0m",
      "\u001b[1;31mNameError\u001b[0m                                 Traceback (most recent call last)",
      "\u001b[1;32m<ipython-input-5-43ba0a0f6503>\u001b[0m in \u001b[0;36m<module>\u001b[1;34m\u001b[0m\n\u001b[1;32m----> 1\u001b[1;33m \u001b[0mcol_copy\u001b[0m\u001b[1;33m[\u001b[0m\u001b[1;34m'collision_severity'\u001b[0m\u001b[1;33m]\u001b[0m \u001b[1;33m=\u001b[0m \u001b[0mcol_copy\u001b[0m\u001b[1;33m[\u001b[0m\u001b[1;34m'collision_severity'\u001b[0m\u001b[1;33m]\u001b[0m\u001b[1;33m.\u001b[0m\u001b[0mapply\u001b[0m\u001b[1;33m(\u001b[0m\u001b[1;32mlambda\u001b[0m \u001b[0ms\u001b[0m \u001b[1;33m:\u001b[0m \u001b[0mcollision_severity_translate\u001b[0m\u001b[1;33m(\u001b[0m\u001b[0ms\u001b[0m\u001b[1;33m)\u001b[0m\u001b[1;33m)\u001b[0m\u001b[1;33m\u001b[0m\u001b[1;33m\u001b[0m\u001b[0m\n\u001b[0m",
      "\u001b[1;31mNameError\u001b[0m: name 'col_copy' is not defined"
     ]
    }
   ],
   "source": [
    "col_copy['collision_severity'] = col_copy['collision_severity'].apply(lambda s : collision_severity_translate(s))"
   ]
  },
  {
   "cell_type": "markdown",
   "metadata": {},
   "source": [
    "## Collision_time"
   ]
  },
  {
   "cell_type": "code",
   "execution_count": null,
   "metadata": {},
   "outputs": [],
   "source": [
    "df = col.copy()"
   ]
  },
  {
   "cell_type": "code",
   "execution_count": null,
   "metadata": {
    "scrolled": true
   },
   "outputs": [],
   "source": [
    "# NaN has the specific of NaN == NaN returns False\n",
    "\n",
    "print(len(df[df['collision_time'] != df['collision_time']]))"
   ]
  },
  {
   "cell_type": "markdown",
   "metadata": {},
   "source": [
    "Many collision_time are NaN, do we replace by some mean or keep it null or remove the rows ?"
   ]
  },
  {
   "cell_type": "code",
   "execution_count": null,
   "metadata": {},
   "outputs": [],
   "source": [
    "# how to remove all the rows with NaN values\n",
    "# df.dropna(subset=['collision_time'], inplace = True)"
   ]
  },
  {
   "cell_type": "markdown",
   "metadata": {},
   "source": [
    "## county_city_location"
   ]
  },
  {
   "cell_type": "code",
   "execution_count": null,
   "metadata": {},
   "outputs": [],
   "source": [
    "df = col.copy()"
   ]
  },
  {
   "cell_type": "code",
   "execution_count": null,
   "metadata": {},
   "outputs": [],
   "source": [
    "#no city code are under 0\n",
    "print(df[df['county_city_location'] > 0].size == df.size)"
   ]
  },
  {
   "cell_type": "code",
   "execution_count": null,
   "metadata": {},
   "outputs": [],
   "source": [
    "print(df[df['county_city_location'] >= 10000].size)"
   ]
  },
  {
   "cell_type": "code",
   "execution_count": null,
   "metadata": {},
   "outputs": [],
   "source": [
    "print(df[df['county_city_location'] != df['county_city_location']].size)"
   ]
  },
  {
   "cell_type": "markdown",
   "metadata": {},
   "source": [
    "## hit_and_run"
   ]
  },
  {
   "cell_type": "code",
   "execution_count": null,
   "metadata": {},
   "outputs": [],
   "source": [
    "df = col.copy()"
   ]
  },
  {
   "cell_type": "code",
   "execution_count": null,
   "metadata": {},
   "outputs": [],
   "source": [
    "def hit_and_run_translate(s):\n",
    "    dic = {'felony':'F', 'misdemeanor':'M', 'not hit and run':'N'\n",
    "    }\n",
    "    if s in dic:\n",
    "        return dic[s]\n",
    "    else:\n",
    "        return np.nan"
   ]
  },
  {
   "cell_type": "code",
   "execution_count": null,
   "metadata": {},
   "outputs": [],
   "source": [
    "df['hit_and_run'] = df['hit_and_run'].apply(lambda s : hit_and_run_translate(s))"
   ]
  },
  {
   "cell_type": "code",
   "execution_count": null,
   "metadata": {
    "scrolled": true
   },
   "outputs": [],
   "source": [
    "##looks like there are some bad values\n",
    "print(len(df[(df['hit_and_run'] == 'F') | (df['hit_and_run'] == 'M') | (df['hit_and_run'] == 'N')]), len(df))"
   ]
  },
  {
   "cell_type": "code",
   "execution_count": null,
   "metadata": {},
   "outputs": [],
   "source": [
    "print(df[(df['hit_and_run'] != 'F') & (df['hit_and_run'] != 'M') & (df['hit_and_run'] != 'N')].head(30))"
   ]
  },
  {
   "cell_type": "markdown",
   "metadata": {},
   "source": [
    "One value has NaN, we may drop it"
   ]
  },
  {
   "cell_type": "markdown",
   "metadata": {},
   "source": [
    "## jurisdiction"
   ]
  },
  {
   "cell_type": "code",
   "execution_count": null,
   "metadata": {},
   "outputs": [],
   "source": [
    "df = col.copy()"
   ]
  },
  {
   "cell_type": "code",
   "execution_count": null,
   "metadata": {},
   "outputs": [],
   "source": [
    "#no jurisdiction are under 0\n",
    "print(len(df[df['county_city_location'] < 0]))"
   ]
  },
  {
   "cell_type": "code",
   "execution_count": null,
   "metadata": {},
   "outputs": [],
   "source": [
    "print(len(df[df['county_city_location'] != df['county_city_location']]))"
   ]
  },
  {
   "cell_type": "code",
   "execution_count": null,
   "metadata": {},
   "outputs": [],
   "source": [
    "print(len(df[df['county_city_location'] >= 10000]))"
   ]
  },
  {
   "cell_type": "markdown",
   "metadata": {},
   "source": [
    "All okay !"
   ]
  },
  {
   "cell_type": "markdown",
   "metadata": {},
   "source": [
    "## lighting"
   ]
  },
  {
   "cell_type": "code",
   "execution_count": null,
   "metadata": {},
   "outputs": [],
   "source": [
    "df = col.copy()"
   ]
  },
  {
   "cell_type": "code",
   "execution_count": null,
   "metadata": {},
   "outputs": [],
   "source": [
    "def lighting_translate(s):\n",
    "    dic = {'daylight':'A', 'dusk or dawn':'B', 'dark with street lights':'C', 'dark with no street lights':'D',\n",
    "           'dark with street lights not functioning' : 'E'}\n",
    "    if s in dic:\n",
    "        return dic[s]\n",
    "    else:\n",
    "        return np.nan"
   ]
  },
  {
   "cell_type": "code",
   "execution_count": null,
   "metadata": {},
   "outputs": [],
   "source": [
    "df['lighting'] = df['lighting'].apply(lambda s : lighting_translate(s))"
   ]
  },
  {
   "cell_type": "code",
   "execution_count": null,
   "metadata": {},
   "outputs": [],
   "source": [
    "# it's okay to have NaN values so all OK\n",
    "print(len(df[df['lighting'] != df['lighting']]))"
   ]
  },
  {
   "cell_type": "markdown",
   "metadata": {},
   "source": [
    "## officer_id"
   ]
  },
  {
   "cell_type": "code",
   "execution_count": 6,
   "metadata": {},
   "outputs": [],
   "source": [
    "df = col.copy()"
   ]
  },
  {
   "cell_type": "code",
   "execution_count": 39,
   "metadata": {},
   "outputs": [
    {
     "data": {
      "text/plain": [
       "'pedestrian or \"other\" under the influence of alcohol or drug'"
      ]
     },
     "execution_count": 39,
     "metadata": {},
     "output_type": "execute_result"
    }
   ],
   "source": [
    "s = \"Pedestrian or \\\"Other\\\" Under the Influence of Alcohol or Drug\"\n",
    "s.lower()"
   ]
  },
  {
   "cell_type": "code",
   "execution_count": 40,
   "metadata": {},
   "outputs": [
    {
     "name": "stdout",
     "output_type": "stream",
     "text": [
      "Empty DataFrame\n",
      "Columns: [case_id, collision_date, collision_severity, collision_time, county_city_location, hit_and_run, jurisdiction, lighting, location_type, officer_id, pcf_violation, pcf_violation_category, pcf_violation_subsection, population, primary_collision_factor, process_date, ramp_intersection, road_condition_1, road_condition_2, road_surface, tow_away, type_of_collision, weather_1, weather_2]\n",
      "Index: []\n",
      "\n",
      "[0 rows x 24 columns]\n"
     ]
    }
   ],
   "source": [
    "print(df[df['pcf_violation_category'] == 'pedestrian or \"other\" under the influence of alcohol or drug'])"
   ]
  },
  {
   "cell_type": "code",
   "execution_count": 67,
   "metadata": {},
   "outputs": [
    {
     "name": "stdout",
     "output_type": "stream",
     "text": [
      "2637317    H\n",
      "Name: road_surface, dtype: object\n"
     ]
    }
   ],
   "source": [
    "print(df[(df['road_surface'] != 'dry') & (df['road_surface'] != 'wet') &\n",
    "         (df['road_surface'] != 'snowy') & (df['road_surface'] == df['road_surface'])  & (df['road_surface'] != 'slippery')]['road_surface'].head(50))"
   ]
  },
  {
   "cell_type": "code",
   "execution_count": 77,
   "metadata": {},
   "outputs": [
    {
     "name": "stdout",
     "output_type": "stream",
     "text": [
      "Series([], Name: type_of_collision, dtype: object)\n"
     ]
    }
   ],
   "source": [
    "print(df[df['type_of_collision'] == 'vehicle/pedestrian']['type_of_collision'].head(50))"
   ]
  },
  {
   "cell_type": "code",
   "execution_count": 80,
   "metadata": {
    "scrolled": true
   },
   "outputs": [
    {
     "name": "stdout",
     "output_type": "stream",
     "text": [
      "3677743     cloudy\n",
      "3677744     cloudy\n",
      "3677745     cloudy\n",
      "3677767     cloudy\n",
      "3677771        NaN\n",
      "3677784     cloudy\n",
      "3677785        fog\n",
      "3677786     cloudy\n",
      "3677787     cloudy\n",
      "3677788    snowing\n",
      "3677796     cloudy\n",
      "3677802     cloudy\n",
      "3677808     cloudy\n",
      "3677818     cloudy\n",
      "3677821     cloudy\n",
      "3677822     cloudy\n",
      "3677827     cloudy\n",
      "3677828     cloudy\n",
      "3677830     cloudy\n",
      "3677836     cloudy\n",
      "3677837     cloudy\n",
      "3677840     cloudy\n",
      "3677842     cloudy\n",
      "3677843     cloudy\n",
      "3677844    raining\n",
      "3677846     cloudy\n",
      "3677854     cloudy\n",
      "3677855     cloudy\n",
      "3677857     cloudy\n",
      "3677859    snowing\n",
      "3677864     cloudy\n",
      "3677866     cloudy\n",
      "3677867      other\n",
      "3677868     cloudy\n",
      "3677869     cloudy\n",
      "3677870    raining\n",
      "3677872     cloudy\n",
      "3677873     cloudy\n",
      "3677895     cloudy\n",
      "3677947     cloudy\n",
      "3677948     cloudy\n",
      "3677995     cloudy\n",
      "3678001     cloudy\n",
      "3678020     cloudy\n",
      "3678040     cloudy\n",
      "3678041     cloudy\n",
      "3678043     cloudy\n",
      "3678044     cloudy\n",
      "3678046     cloudy\n",
      "3678061     cloudy\n",
      "Name: weather_1, dtype: object\n"
     ]
    }
   ],
   "source": [
    "print(df[df['weather_1'] != 'clear']['weather_1'].tail(50))"
   ]
  },
  {
   "cell_type": "code",
   "execution_count": null,
   "metadata": {},
   "outputs": [],
   "source": []
  }
 ],
 "metadata": {
  "kernelspec": {
   "display_name": "Python 3",
   "language": "python",
   "name": "python3"
  },
  "language_info": {
   "codemirror_mode": {
    "name": "ipython",
    "version": 3
   },
   "file_extension": ".py",
   "mimetype": "text/x-python",
   "name": "python",
   "nbconvert_exporter": "python",
   "pygments_lexer": "ipython3",
   "version": "3.8.5"
  }
 },
 "nbformat": 4,
 "nbformat_minor": 4
}
