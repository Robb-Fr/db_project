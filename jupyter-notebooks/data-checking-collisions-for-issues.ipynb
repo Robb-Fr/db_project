{
 "cells": [
  {
   "cell_type": "code",
   "execution_count": 2,
   "metadata": {},
   "outputs": [],
   "source": [
    "import pandas as pd\n",
    "import numpy as np\n",
    "import matplotlib as plt\n",
    "%matplotlib inline"
   ]
  },
  {
   "cell_type": "code",
   "execution_count": 25,
   "metadata": {
    "scrolled": false
   },
   "outputs": [],
   "source": [
    "\n",
    "col =  pd.read_csv(\"../collisions2018.csv\",dtype={'case_id': str})\n"
   ]
  },
  {
   "cell_type": "code",
   "execution_count": 29,
   "metadata": {
    "scrolled": true
   },
   "outputs": [
    {
     "name": "stderr",
     "output_type": "stream",
     "text": [
      "C:\\Users\\Harold\\anaconda3\\lib\\site-packages\\IPython\\core\\interactiveshell.py:3146: DtypeWarning: Columns (4,13) have mixed types.Specify dtype option on import or set low_memory=False.\n",
      "  has_raised = await self.run_ast_nodes(code_ast.body, cell_name,\n"
     ]
    }
   ],
   "source": [
    "df_clean =  pd.read_csv(\"../party.csv\")"
   ]
  },
  {
   "cell_type": "code",
   "execution_count": 30,
   "metadata": {},
   "outputs": [
    {
     "name": "stdout",
     "output_type": "stream",
     "text": [
      "0\n"
     ]
    }
   ],
   "source": [
    "print(len(df['case_id']) -len(df['case_id'].drop_duplicates()))"
   ]
  },
  {
   "cell_type": "markdown",
   "metadata": {},
   "source": [
    "## Utility functions"
   ]
  },
  {
   "cell_type": "code",
   "execution_count": 5,
   "metadata": {},
   "outputs": [
    {
     "name": "stdout",
     "output_type": "stream",
     "text": [
      "0     15:30:00\n",
      "1     19:30:00\n",
      "2     15:30:00\n",
      "3     07:45:00\n",
      "4     11:35:00\n",
      "5     17:40:00\n",
      "6     17:55:00\n",
      "7     15:45:00\n",
      "8     16:12:00\n",
      "9     08:00:00\n",
      "10    06:30:00\n",
      "11    12:08:00\n",
      "12    12:10:00\n",
      "13    15:15:00\n",
      "14    16:50:00\n",
      "15    23:05:00\n",
      "16    22:20:00\n",
      "17    07:10:00\n",
      "18    16:43:00\n",
      "19    06:00:00\n",
      "20    16:00:00\n",
      "21    17:05:00\n",
      "22    23:04:00\n",
      "23    23:55:00\n",
      "24    10:30:00\n",
      "25    11:15:00\n",
      "26    07:45:00\n",
      "27    02:17:00\n",
      "28    06:30:00\n",
      "29    14:55:00\n",
      "30    01:00:00\n",
      "31    06:25:00\n",
      "32    09:25:00\n",
      "33    14:05:00\n",
      "34    16:00:00\n",
      "35    18:05:00\n",
      "36    13:25:00\n",
      "37    08:38:00\n",
      "38    10:34:00\n",
      "39    21:40:00\n",
      "40    11:40:00\n",
      "41    12:55:00\n",
      "42    17:25:00\n",
      "43    15:15:00\n",
      "44    18:50:00\n",
      "45    23:30:00\n",
      "46    07:45:00\n",
      "47    07:46:00\n",
      "48    15:00:00\n",
      "49    15:35:00\n",
      "Name: collision_time, dtype: object\n"
     ]
    }
   ],
   "source": [
    "print(col['collision_time'].head(50))"
   ]
  },
  {
   "cell_type": "code",
   "execution_count": 3,
   "metadata": {},
   "outputs": [
    {
     "ename": "SyntaxError",
     "evalue": "invalid syntax (<ipython-input-3-7e9358f0ce70>, line 1)",
     "output_type": "error",
     "traceback": [
      "\u001b[1;36m  File \u001b[1;32m\"<ipython-input-3-7e9358f0ce70>\"\u001b[1;36m, line \u001b[1;32m1\u001b[0m\n\u001b[1;33m    def check_set(name,alphanumeric)\u001b[0m\n\u001b[1;37m                                    ^\u001b[0m\n\u001b[1;31mSyntaxError\u001b[0m\u001b[1;31m:\u001b[0m invalid syntax\n"
     ]
    }
   ],
   "source": [
    "def check_set(name,alphanumeric)"
   ]
  },
  {
   "cell_type": "markdown",
   "metadata": {},
   "source": [
    "## Collision_severity"
   ]
  },
  {
   "cell_type": "code",
   "execution_count": null,
   "metadata": {},
   "outputs": [],
   "source": [
    "def collision_severity_translate(s):\n",
    "    dic = {'fatal':1, 'severe injury':2, 'other injury':3,\n",
    "           'pain':4, 'property damage only':5\n",
    "    }\n",
    "    if s in dic:\n",
    "        return dic[s]\n",
    "    else:\n",
    "        return numpy.nan"
   ]
  },
  {
   "cell_type": "code",
   "execution_count": 26,
   "metadata": {},
   "outputs": [],
   "source": [
    "df = col.copy()"
   ]
  },
  {
   "cell_type": "code",
   "execution_count": null,
   "metadata": {
    "scrolled": true
   },
   "outputs": [],
   "source": [
    "col_copy['collision_severity'] = col_copy['collision_severity'].apply(lambda s : collision_severity_translate(s))"
   ]
  },
  {
   "cell_type": "code",
   "execution_count": null,
   "metadata": {},
   "outputs": [],
   "source": [
    "df['case_id'] = df['case_id']"
   ]
  },
  {
   "cell_type": "code",
   "execution_count": null,
   "metadata": {},
   "outputs": [],
   "source": [
    "print(df.dtypes)"
   ]
  },
  {
   "cell_type": "code",
   "execution_count": null,
   "metadata": {},
   "outputs": [],
   "source": [
    "display(df[df['case_id'].str.contains(pat='^[0]') == True].head(20))"
   ]
  },
  {
   "cell_type": "markdown",
   "metadata": {},
   "source": [
    "## Collision_time"
   ]
  },
  {
   "cell_type": "code",
   "execution_count": 4,
   "metadata": {},
   "outputs": [],
   "source": [
    "df = col.copy()"
   ]
  },
  {
   "cell_type": "code",
   "execution_count": null,
   "metadata": {
    "scrolled": true
   },
   "outputs": [],
   "source": [
    "# NaN has the specific of NaN == NaN returns False\n",
    "\n",
    "print(len(df[df['collision_time'] != df['collision_time']]))"
   ]
  },
  {
   "cell_type": "markdown",
   "metadata": {},
   "source": [
    "Many collision_time are NaN, do we replace by some mean or keep it null or remove the rows ?"
   ]
  },
  {
   "cell_type": "code",
   "execution_count": null,
   "metadata": {},
   "outputs": [],
   "source": [
    "# how to remove all the rows with NaN values\n",
    "# df.dropna(subset=['collision_time'], inplace = True)"
   ]
  },
  {
   "cell_type": "markdown",
   "metadata": {},
   "source": [
    "## county_city_location"
   ]
  },
  {
   "cell_type": "code",
   "execution_count": null,
   "metadata": {},
   "outputs": [],
   "source": [
    "df = col.copy()"
   ]
  },
  {
   "cell_type": "code",
   "execution_count": null,
   "metadata": {},
   "outputs": [],
   "source": [
    "#no city code are under 0\n",
    "print(df[df['county_city_location'] > 0].size == df.size)"
   ]
  },
  {
   "cell_type": "code",
   "execution_count": null,
   "metadata": {},
   "outputs": [],
   "source": [
    "print(df[df['county_city_location'] >= 10000].size)"
   ]
  },
  {
   "cell_type": "code",
   "execution_count": null,
   "metadata": {},
   "outputs": [],
   "source": [
    "print(df[df['county_city_location'] != df['county_city_location']].size)"
   ]
  },
  {
   "cell_type": "markdown",
   "metadata": {},
   "source": [
    "## hit_and_run"
   ]
  },
  {
   "cell_type": "code",
   "execution_count": null,
   "metadata": {},
   "outputs": [],
   "source": [
    "df = col.copy()"
   ]
  },
  {
   "cell_type": "code",
   "execution_count": null,
   "metadata": {},
   "outputs": [],
   "source": [
    "def hit_and_run_translate(s):\n",
    "    dic = {'felony':'F', 'misdemeanor':'M', 'not hit and run':'N'\n",
    "    }\n",
    "    if s in dic:\n",
    "        return dic[s]\n",
    "    else:\n",
    "        return np.nan"
   ]
  },
  {
   "cell_type": "code",
   "execution_count": null,
   "metadata": {},
   "outputs": [],
   "source": [
    "df['hit_and_run'] = df['hit_and_run'].apply(lambda s : hit_and_run_translate(s))"
   ]
  },
  {
   "cell_type": "code",
   "execution_count": null,
   "metadata": {
    "scrolled": true
   },
   "outputs": [],
   "source": [
    "##looks like there are some bad values\n",
    "print(len(df[(df['hit_and_run'] == 'F') | (df['hit_and_run'] == 'M') | (df['hit_and_run'] == 'N')]), len(df))"
   ]
  },
  {
   "cell_type": "code",
   "execution_count": null,
   "metadata": {},
   "outputs": [],
   "source": [
    "print(df[(df['hit_and_run'] != 'F') & (df['hit_and_run'] != 'M') & (df['hit_and_run'] != 'N')].head(30))"
   ]
  },
  {
   "cell_type": "markdown",
   "metadata": {},
   "source": [
    "One value has NaN, we may drop it"
   ]
  },
  {
   "cell_type": "markdown",
   "metadata": {},
   "source": [
    "## jurisdiction"
   ]
  },
  {
   "cell_type": "code",
   "execution_count": null,
   "metadata": {},
   "outputs": [],
   "source": [
    "df = col.copy()"
   ]
  },
  {
   "cell_type": "code",
   "execution_count": null,
   "metadata": {},
   "outputs": [],
   "source": [
    "#no jurisdiction are under 0\n",
    "print(len(df[df['county_city_location'] < 0]))"
   ]
  },
  {
   "cell_type": "code",
   "execution_count": null,
   "metadata": {},
   "outputs": [],
   "source": [
    "print(len(df[df['county_city_location'] != df['county_city_location']]))"
   ]
  },
  {
   "cell_type": "code",
   "execution_count": null,
   "metadata": {},
   "outputs": [],
   "source": [
    "print(len(df[df['county_city_location'] >= 10000]))"
   ]
  },
  {
   "cell_type": "markdown",
   "metadata": {},
   "source": [
    "All okay !"
   ]
  },
  {
   "cell_type": "markdown",
   "metadata": {},
   "source": [
    "## lighting"
   ]
  },
  {
   "cell_type": "code",
   "execution_count": null,
   "metadata": {},
   "outputs": [],
   "source": [
    "df = col.copy()"
   ]
  },
  {
   "cell_type": "code",
   "execution_count": null,
   "metadata": {},
   "outputs": [],
   "source": [
    "def lighting_translate(s):\n",
    "    dic = {'daylight':'A', 'dusk or dawn':'B', 'dark with street lights':'C', 'dark with no street lights':'D',\n",
    "           'dark with street lights not functioning' : 'E'}\n",
    "    if s in dic:\n",
    "        return dic[s]\n",
    "    else:\n",
    "        return np.nan"
   ]
  },
  {
   "cell_type": "code",
   "execution_count": null,
   "metadata": {},
   "outputs": [],
   "source": [
    "df['lighting'] = df['lighting'].apply(lambda s : lighting_translate(s))"
   ]
  },
  {
   "cell_type": "code",
   "execution_count": null,
   "metadata": {},
   "outputs": [],
   "source": [
    "# it's okay to have NaN values so all OK\n",
    "print(len(df[df['lighting'] != df['lighting']]))"
   ]
  },
  {
   "cell_type": "markdown",
   "metadata": {},
   "source": [
    "## officer_id"
   ]
  },
  {
   "cell_type": "code",
   "execution_count": null,
   "metadata": {},
   "outputs": [],
   "source": [
    "df = col.copy()"
   ]
  },
  {
   "cell_type": "code",
   "execution_count": null,
   "metadata": {},
   "outputs": [],
   "source": [
    "s = \"Pedestrian or \\\"Other\\\" Under the Influence of Alcohol or Drug\"\n",
    "s.lower()"
   ]
  },
  {
   "cell_type": "code",
   "execution_count": null,
   "metadata": {},
   "outputs": [],
   "source": [
    "print(df[df['pcf_violation_category'] == 'pedestrian or \"other\" under the influence of alcohol or drug'])"
   ]
  },
  {
   "cell_type": "code",
   "execution_count": null,
   "metadata": {},
   "outputs": [],
   "source": [
    "print(df[(df['road_surface'] != 'dry') & (df['road_surface'] != 'wet') &\n",
    "         (df['road_surface'] != 'snowy') & (df['road_surface'] == df['road_surface'])  & (df['road_surface'] != 'slippery')]['road_surface'].head(50))"
   ]
  },
  {
   "cell_type": "code",
   "execution_count": null,
   "metadata": {},
   "outputs": [],
   "source": [
    "print(df[df['type_of_collision'] == 'vehicle/pedestrian']['type_of_collision'].head(50))"
   ]
  },
  {
   "cell_type": "code",
   "execution_count": null,
   "metadata": {
    "scrolled": true
   },
   "outputs": [],
   "source": [
    "print(df[df['weather_1'] != 'clear']['weather_1'].tail(50))"
   ]
  },
  {
   "cell_type": "code",
   "execution_count": 27,
   "metadata": {},
   "outputs": [
    {
     "name": "stdout",
     "output_type": "stream",
     "text": [
      "0\n"
     ]
    }
   ],
   "source": [
    "print(len(df['case_id']) -len(df['case_id'].drop_duplicates()))"
   ]
  },
  {
   "cell_type": "code",
   "execution_count": 28,
   "metadata": {
    "scrolled": false
   },
   "outputs": [
    {
     "name": "stdout",
     "output_type": "stream",
     "text": [
      "case_id                        0101010107113000089\n",
      "collision_date                          2001-01-07\n",
      "collision_severity            property damage only\n",
      "collision_time                            11:30:00\n",
      "county_city_location                           101\n",
      "hit_and_run                        not hit and run\n",
      "jurisdiction                                   101\n",
      "lighting                                  daylight\n",
      "location_type                                  NaN\n",
      "officer_id                                      89\n",
      "pcf_violation                                22350\n",
      "pcf_violation_category                    speeding\n",
      "pcf_violation_subsection                       NaN\n",
      "population                                       5\n",
      "primary_collision_factor    vehicle code violation\n",
      "process_date                            2001-04-23\n",
      "ramp_intersection                                8\n",
      "road_condition_1                            normal\n",
      "road_condition_2                               NaN\n",
      "road_surface                                   dry\n",
      "tow_away                                         0\n",
      "type_of_collision                         rear end\n",
      "weather_1                                    clear\n",
      "weather_2                                      NaN\n",
      "Name: 91325, dtype: object case_id                     False\n",
      "collision_date               True\n",
      "collision_severity          False\n",
      "collision_time              False\n",
      "county_city_location         True\n",
      "hit_and_run                  True\n",
      "jurisdiction                 True\n",
      "lighting                     True\n",
      "location_type               False\n",
      "officer_id                  False\n",
      "pcf_violation               False\n",
      "pcf_violation_category      False\n",
      "pcf_violation_subsection    False\n",
      "population                   True\n",
      "primary_collision_factor     True\n",
      "process_date                 True\n",
      "ramp_intersection            True\n",
      "road_condition_1             True\n",
      "road_condition_2            False\n",
      "road_surface                 True\n",
      "tow_away                    False\n",
      "type_of_collision           False\n",
      "weather_1                   False\n",
      "weather_2                   False\n",
      "dtype: bool\n",
      "case_id                         0101010107162200055\n",
      "collision_date                           2001-01-07\n",
      "collision_severity                             pain\n",
      "collision_time                             16:22:00\n",
      "county_city_location                            101\n",
      "hit_and_run                         not hit and run\n",
      "jurisdiction                                    101\n",
      "lighting                                   daylight\n",
      "location_type                                   NaN\n",
      "officer_id                                       55\n",
      "pcf_violation                                 21804\n",
      "pcf_violation_category      automobile right of way\n",
      "pcf_violation_subsection                          A\n",
      "population                                        5\n",
      "primary_collision_factor     vehicle code violation\n",
      "process_date                             2001-04-23\n",
      "ramp_intersection                                 8\n",
      "road_condition_1                             normal\n",
      "road_condition_2                                NaN\n",
      "road_surface                                    dry\n",
      "tow_away                                          1\n",
      "type_of_collision                             other\n",
      "weather_1                                    cloudy\n",
      "weather_2                                       NaN\n",
      "Name: 91326, dtype: object case_id                     False\n",
      "collision_date               True\n",
      "collision_severity           True\n",
      "collision_time              False\n",
      "county_city_location         True\n",
      "hit_and_run                  True\n",
      "jurisdiction                 True\n",
      "lighting                    False\n",
      "location_type               False\n",
      "officer_id                  False\n",
      "pcf_violation               False\n",
      "pcf_violation_category       True\n",
      "pcf_violation_subsection    False\n",
      "population                   True\n",
      "primary_collision_factor     True\n",
      "process_date                False\n",
      "ramp_intersection            True\n",
      "road_condition_1             True\n",
      "road_condition_2            False\n",
      "road_surface                 True\n",
      "tow_away                     True\n",
      "type_of_collision           False\n",
      "weather_1                   False\n",
      "weather_2                   False\n",
      "dtype: bool\n",
      "case_id                         0101010107181500077\n",
      "collision_date                           2001-01-07\n",
      "collision_severity                             pain\n",
      "collision_time                             18:15:00\n",
      "county_city_location                            101\n",
      "hit_and_run                         not hit and run\n",
      "jurisdiction                                    101\n",
      "lighting                    dark with street lights\n",
      "location_type                                   NaN\n",
      "officer_id                                       77\n",
      "pcf_violation                                 21453\n",
      "pcf_violation_category      automobile right of way\n",
      "pcf_violation_subsection                          B\n",
      "population                                        5\n",
      "primary_collision_factor     vehicle code violation\n",
      "process_date                             2001-04-12\n",
      "ramp_intersection                                 8\n",
      "road_condition_1                             normal\n",
      "road_condition_2                                NaN\n",
      "road_surface                                    dry\n",
      "tow_away                                          1\n",
      "type_of_collision                        pedestrian\n",
      "weather_1                                     clear\n",
      "weather_2                                       NaN\n",
      "Name: 91327, dtype: object case_id                     False\n",
      "collision_date              False\n",
      "collision_severity          False\n",
      "collision_time              False\n",
      "county_city_location         True\n",
      "hit_and_run                  True\n",
      "jurisdiction                 True\n",
      "lighting                     True\n",
      "location_type               False\n",
      "officer_id                  False\n",
      "pcf_violation               False\n",
      "pcf_violation_category      False\n",
      "pcf_violation_subsection    False\n",
      "population                   True\n",
      "primary_collision_factor     True\n",
      "process_date                False\n",
      "ramp_intersection            True\n",
      "road_condition_1             True\n",
      "road_condition_2            False\n",
      "road_surface                False\n",
      "tow_away                    False\n",
      "type_of_collision           False\n",
      "weather_1                   False\n",
      "weather_2                   False\n",
      "dtype: bool\n",
      "case_id                         0101010108011600015\n",
      "collision_date                           2001-01-08\n",
      "collision_severity             property damage only\n",
      "collision_time                             01:16:00\n",
      "county_city_location                            101\n",
      "hit_and_run                         not hit and run\n",
      "jurisdiction                                    101\n",
      "lighting                    dark with street lights\n",
      "location_type                                   NaN\n",
      "officer_id                                       15\n",
      "pcf_violation                                 23152\n",
      "pcf_violation_category                          dui\n",
      "pcf_violation_subsection                          A\n",
      "population                                        5\n",
      "primary_collision_factor     vehicle code violation\n",
      "process_date                             2001-04-23\n",
      "ramp_intersection                                 8\n",
      "road_condition_1                             normal\n",
      "road_condition_2                                NaN\n",
      "road_surface                                    wet\n",
      "tow_away                                          0\n",
      "type_of_collision                         sideswipe\n",
      "weather_1                                   raining\n",
      "weather_2                                       NaN\n",
      "Name: 91328, dtype: object case_id                     False\n",
      "collision_date               True\n",
      "collision_severity           True\n",
      "collision_time               True\n",
      "county_city_location         True\n",
      "hit_and_run                  True\n",
      "jurisdiction                 True\n",
      "lighting                     True\n",
      "location_type               False\n",
      "officer_id                  False\n",
      "pcf_violation                True\n",
      "pcf_violation_category       True\n",
      "pcf_violation_subsection     True\n",
      "population                   True\n",
      "primary_collision_factor     True\n",
      "process_date                False\n",
      "ramp_intersection            True\n",
      "road_condition_1             True\n",
      "road_condition_2            False\n",
      "road_surface                 True\n",
      "tow_away                     True\n",
      "type_of_collision           False\n",
      "weather_1                    True\n",
      "weather_2                   False\n",
      "dtype: bool\n",
      "case_id                         0101010108011600016\n",
      "collision_date                           2001-01-08\n",
      "collision_severity             property damage only\n",
      "collision_time                             01:16:00\n",
      "county_city_location                            101\n",
      "hit_and_run                         not hit and run\n",
      "jurisdiction                                    101\n",
      "lighting                    dark with street lights\n",
      "location_type                                   NaN\n",
      "officer_id                                       16\n",
      "pcf_violation                                 23152\n",
      "pcf_violation_category                          dui\n",
      "pcf_violation_subsection                          A\n",
      "population                                        5\n",
      "primary_collision_factor     vehicle code violation\n",
      "process_date                             2001-04-12\n",
      "ramp_intersection                                 8\n",
      "road_condition_1                             normal\n",
      "road_condition_2                                NaN\n",
      "road_surface                                    wet\n",
      "tow_away                                          0\n",
      "type_of_collision                         broadside\n",
      "weather_1                                   raining\n",
      "weather_2                                       NaN\n",
      "Name: 91329, dtype: object case_id                     False\n",
      "collision_date               True\n",
      "collision_severity           True\n",
      "collision_time              False\n",
      "county_city_location         True\n",
      "hit_and_run                  True\n",
      "jurisdiction                 True\n",
      "lighting                    False\n",
      "location_type               False\n",
      "officer_id                  False\n",
      "pcf_violation               False\n",
      "pcf_violation_category      False\n",
      "pcf_violation_subsection     True\n",
      "population                   True\n",
      "primary_collision_factor     True\n",
      "process_date                 True\n",
      "ramp_intersection            True\n",
      "road_condition_1             True\n",
      "road_condition_2            False\n",
      "road_surface                 True\n",
      "tow_away                     True\n",
      "type_of_collision            True\n",
      "weather_1                   False\n",
      "weather_2                   False\n",
      "dtype: bool\n",
      "case_id                         0101010108081300010\n",
      "collision_date                           2001-01-08\n",
      "collision_severity             property damage only\n",
      "collision_time                             08:13:00\n",
      "county_city_location                            101\n",
      "hit_and_run                         not hit and run\n",
      "jurisdiction                                    101\n",
      "lighting                                   daylight\n",
      "location_type                                   NaN\n",
      "officer_id                                       10\n",
      "pcf_violation                                 21802\n",
      "pcf_violation_category      automobile right of way\n",
      "pcf_violation_subsection                          A\n",
      "population                                        5\n",
      "primary_collision_factor     vehicle code violation\n",
      "process_date                             2001-04-12\n",
      "ramp_intersection                                 8\n",
      "road_condition_1                             normal\n",
      "road_condition_2                                NaN\n",
      "road_surface                                    wet\n",
      "tow_away                                          0\n",
      "type_of_collision                         broadside\n",
      "weather_1                                    cloudy\n",
      "weather_2                                   raining\n",
      "Name: 91330, dtype: object case_id                     False\n",
      "collision_date               True\n",
      "collision_severity           True\n",
      "collision_time              False\n",
      "county_city_location         True\n",
      "hit_and_run                  True\n",
      "jurisdiction                 True\n",
      "lighting                    False\n",
      "location_type               False\n",
      "officer_id                  False\n",
      "pcf_violation               False\n",
      "pcf_violation_category      False\n",
      "pcf_violation_subsection    False\n",
      "population                   True\n",
      "primary_collision_factor     True\n",
      "process_date                False\n",
      "ramp_intersection            True\n",
      "road_condition_1             True\n",
      "road_condition_2            False\n",
      "road_surface                False\n",
      "tow_away                    False\n",
      "type_of_collision           False\n",
      "weather_1                    True\n",
      "weather_2                   False\n",
      "dtype: bool\n",
      "case_id                         0101010108185500035\n",
      "collision_date                           2001-01-08\n",
      "collision_severity             property damage only\n",
      "collision_time                             18:55:00\n",
      "county_city_location                            101\n",
      "hit_and_run                         not hit and run\n",
      "jurisdiction                                    101\n",
      "lighting                    dark with street lights\n",
      "location_type                                   NaN\n",
      "officer_id                                       35\n",
      "pcf_violation                                 22107\n",
      "pcf_violation_category             improper turning\n",
      "pcf_violation_subsection                        NaN\n",
      "population                                        5\n",
      "primary_collision_factor     vehicle code violation\n",
      "process_date                             2001-04-23\n",
      "ramp_intersection                                 8\n",
      "road_condition_1                             normal\n",
      "road_condition_2                                NaN\n",
      "road_surface                                    dry\n",
      "tow_away                                          1\n",
      "type_of_collision                          rear end\n",
      "weather_1                                    cloudy\n",
      "weather_2                                       NaN\n",
      "Name: 91331, dtype: object case_id                     False\n",
      "collision_date               True\n",
      "collision_severity          False\n",
      "collision_time              False\n",
      "county_city_location         True\n",
      "hit_and_run                  True\n",
      "jurisdiction                 True\n",
      "lighting                     True\n",
      "location_type               False\n",
      "officer_id                  False\n",
      "pcf_violation               False\n",
      "pcf_violation_category      False\n",
      "pcf_violation_subsection    False\n",
      "population                   True\n",
      "primary_collision_factor     True\n",
      "process_date                False\n",
      "ramp_intersection           False\n",
      "road_condition_1             True\n",
      "road_condition_2            False\n",
      "road_surface                 True\n",
      "tow_away                     True\n",
      "type_of_collision           False\n",
      "weather_1                    True\n",
      "weather_2                   False\n",
      "dtype: bool\n",
      "case_id                         0101010108194400085\n",
      "collision_date                           2001-01-08\n",
      "collision_severity                             pain\n",
      "collision_time                             19:44:00\n",
      "county_city_location                            101\n",
      "hit_and_run                         not hit and run\n",
      "jurisdiction                                    101\n",
      "lighting                    dark with street lights\n",
      "location_type                               highway\n",
      "officer_id                                       85\n",
      "pcf_violation                                 21950\n",
      "pcf_violation_category      pedestrian right of way\n",
      "pcf_violation_subsection                          A\n",
      "population                                        5\n",
      "primary_collision_factor     vehicle code violation\n",
      "process_date                             2001-06-29\n",
      "ramp_intersection                                 7\n",
      "road_condition_1                             normal\n",
      "road_condition_2                                NaN\n",
      "road_surface                                    dry\n",
      "tow_away                                          1\n",
      "type_of_collision                        pedestrian\n",
      "weather_1                                    cloudy\n",
      "weather_2                                       NaN\n",
      "Name: 91332, dtype: object case_id                     False\n",
      "collision_date              False\n",
      "collision_severity          False\n",
      "collision_time              False\n",
      "county_city_location         True\n",
      "hit_and_run                  True\n",
      "jurisdiction                 True\n",
      "lighting                    False\n",
      "location_type               False\n",
      "officer_id                  False\n",
      "pcf_violation               False\n",
      "pcf_violation_category      False\n",
      "pcf_violation_subsection     True\n",
      "population                   True\n",
      "primary_collision_factor     True\n",
      "process_date                 True\n",
      "ramp_intersection           False\n",
      "road_condition_1             True\n",
      "road_condition_2            False\n",
      "road_surface                 True\n",
      "tow_away                    False\n",
      "type_of_collision           False\n",
      "weather_1                    True\n",
      "weather_2                   False\n",
      "dtype: bool\n",
      "case_id                         0101010109091500037\n",
      "collision_date                           2001-01-09\n",
      "collision_severity             property damage only\n",
      "collision_time                             09:15:00\n",
      "county_city_location                            101\n",
      "hit_and_run                         not hit and run\n",
      "jurisdiction                                    101\n",
      "lighting                                   daylight\n",
      "location_type                          intersection\n",
      "officer_id                                       37\n",
      "pcf_violation                                 21802\n",
      "pcf_violation_category      automobile right of way\n",
      "pcf_violation_subsection                          A\n",
      "population                                        5\n",
      "primary_collision_factor     vehicle code violation\n",
      "process_date                             2001-06-29\n",
      "ramp_intersection                                 5\n",
      "road_condition_1                             normal\n",
      "road_condition_2                                NaN\n",
      "road_surface                                    dry\n",
      "tow_away                                          0\n",
      "type_of_collision                           head-on\n",
      "weather_1                                    cloudy\n",
      "weather_2                                       NaN\n",
      "Name: 91333, dtype: object case_id                     False\n",
      "collision_date               True\n",
      "collision_severity           True\n",
      "collision_time              False\n",
      "county_city_location         True\n",
      "hit_and_run                  True\n",
      "jurisdiction                 True\n",
      "lighting                     True\n",
      "location_type               False\n",
      "officer_id                  False\n",
      "pcf_violation               False\n",
      "pcf_violation_category      False\n",
      "pcf_violation_subsection    False\n",
      "population                   True\n",
      "primary_collision_factor     True\n",
      "process_date                 True\n",
      "ramp_intersection           False\n",
      "road_condition_1            False\n",
      "road_condition_2            False\n",
      "road_surface                False\n",
      "tow_away                     True\n",
      "type_of_collision           False\n",
      "weather_1                   False\n",
      "weather_2                   False\n",
      "dtype: bool\n",
      "case_id                        0101010109125400053\n",
      "collision_date                          2001-01-09\n",
      "collision_severity            property damage only\n",
      "collision_time                            12:54:00\n",
      "county_city_location                           101\n",
      "hit_and_run                        not hit and run\n",
      "jurisdiction                                   101\n",
      "lighting                                  daylight\n",
      "location_type                              highway\n",
      "officer_id                                      53\n",
      "pcf_violation                                22350\n",
      "pcf_violation_category                    speeding\n",
      "pcf_violation_subsection                       NaN\n",
      "population                                       5\n",
      "primary_collision_factor    vehicle code violation\n",
      "process_date                            2001-06-29\n",
      "ramp_intersection                                7\n",
      "road_condition_1                             other\n",
      "road_condition_2                               NaN\n",
      "road_surface                                   wet\n",
      "tow_away                                         0\n",
      "type_of_collision                         rear end\n",
      "weather_1                                  raining\n",
      "weather_2                                      NaN\n",
      "Name: 91334, dtype: object case_id                     False\n",
      "collision_date               True\n",
      "collision_severity           True\n",
      "collision_time              False\n",
      "county_city_location         True\n",
      "hit_and_run                 False\n",
      "jurisdiction                 True\n",
      "lighting                     True\n",
      "location_type               False\n",
      "officer_id                  False\n",
      "pcf_violation               False\n",
      "pcf_violation_category      False\n",
      "pcf_violation_subsection    False\n",
      "population                   True\n",
      "primary_collision_factor     True\n",
      "process_date                False\n",
      "ramp_intersection           False\n",
      "road_condition_1            False\n",
      "road_condition_2            False\n",
      "road_surface                 True\n",
      "tow_away                     True\n",
      "type_of_collision           False\n",
      "weather_1                    True\n",
      "weather_2                   False\n",
      "dtype: bool\n"
     ]
    }
   ],
   "source": [
    "for i in range(10):\n",
    "    print(df.iloc[91325+i], df.iloc[91325+i]==df.iloc[91325+i+1])"
   ]
  },
  {
   "cell_type": "code",
   "execution_count": null,
   "metadata": {},
   "outputs": [],
   "source": []
  }
 ],
 "metadata": {
  "kernelspec": {
   "display_name": "Python 3",
   "language": "python",
   "name": "python3"
  },
  "language_info": {
   "codemirror_mode": {
    "name": "ipython",
    "version": 3
   },
   "file_extension": ".py",
   "mimetype": "text/x-python",
   "name": "python",
   "nbconvert_exporter": "python",
   "pygments_lexer": "ipython3",
   "version": "3.8.5"
  }
 },
 "nbformat": 4,
 "nbformat_minor": 4
}
