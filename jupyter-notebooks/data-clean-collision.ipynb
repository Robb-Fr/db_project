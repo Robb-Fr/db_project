{
 "cells": [
  {
   "cell_type": "code",
   "execution_count": 1,
   "metadata": {
    "scrolled": true
   },
   "outputs": [],
   "source": [
    "import pandas as pd\n",
    "import numpy as np\n",
    "import matplotlib as plt\n",
    "%matplotlib inline"
   ]
  },
  {
   "cell_type": "code",
   "execution_count": 2,
   "metadata": {
    "scrolled": false
   },
   "outputs": [
    {
     "name": "stderr",
     "output_type": "stream",
     "text": [
      "C:\\Users\\Harold\\anaconda3\\lib\\site-packages\\IPython\\core\\interactiveshell.py:3146: DtypeWarning: Columns (9) have mixed types.Specify dtype option on import or set low_memory=False.\n",
      "  has_raised = await self.run_ast_nodes(code_ast.body, cell_name,\n"
     ]
    }
   ],
   "source": [
    "col =  pd.read_csv(\"../collisions2018.csv\",dtype={'case_id': str})"
   ]
  },
  {
   "cell_type": "markdown",
   "metadata": {},
   "source": [
    "## Utility functions"
   ]
  },
  {
   "cell_type": "code",
   "execution_count": 3,
   "metadata": {
    "scrolled": true
   },
   "outputs": [],
   "source": [
    "def extract_set(description):\n",
    "    lines = description.split(\"\\n\")\n",
    "    trad = {}\n",
    "    for line in lines:\n",
    "        l,r = line.split(\"-\",1)\n",
    "        l= l.strip()\n",
    "        r= r.strip().lower()\n",
    "        trad[r]= l\n",
    "        \n",
    "    return trad"
   ]
  },
  {
   "cell_type": "code",
   "execution_count": 4,
   "metadata": {
    "scrolled": true
   },
   "outputs": [
    {
     "data": {
      "text/plain": [
       "{'had not been drinking': 'A',\n",
       " 'had been drinking, under influence': 'B',\n",
       " 'had been drinking, not under influence': 'C',\n",
       " 'had been drinking, impairment unknown': 'D',\n",
       " 'impairment unknown': 'G',\n",
       " 'not applicable': 'H'}"
      ]
     },
     "execution_count": 4,
     "metadata": {},
     "output_type": "execute_result"
    }
   ],
   "source": [
    "extract_set(\"A - Had Not Been Drinking\\nB - Had Been Drinking, Under Influence\\nC - Had Been Drinking, Not Under Influence\\nD - Had Been Drinking, Impairment Unknown\\nG - Impairment Unknown\\nH - Not Applicable\")"
   ]
  },
  {
   "cell_type": "code",
   "execution_count": 5,
   "metadata": {
    "scrolled": true
   },
   "outputs": [],
   "source": [
    "def set_translate(trad,s):\n",
    "    if s in trad:\n",
    "        return trad[s]\n",
    "    else:\n",
    "        return np.nan"
   ]
  },
  {
   "cell_type": "markdown",
   "metadata": {},
   "source": [
    "## Collision_severity"
   ]
  },
  {
   "cell_type": "code",
   "execution_count": 6,
   "metadata": {
    "scrolled": true
   },
   "outputs": [],
   "source": [
    "df = col.copy()"
   ]
  },
  {
   "cell_type": "code",
   "execution_count": 7,
   "metadata": {
    "scrolled": true
   },
   "outputs": [],
   "source": [
    "collision_severity_trad = {\"fatal\":\"1\",\"severe injury\":\"2\",\"other injury\":\"3\",\"pain\":\"4\",\"property damage only\":\"5\"}"
   ]
  },
  {
   "cell_type": "code",
   "execution_count": 8,
   "metadata": {
    "scrolled": true
   },
   "outputs": [],
   "source": [
    "df['collision_severity'] = df['collision_severity'].apply(lambda s : set_translate(collision_severity_trad,s))"
   ]
  },
  {
   "cell_type": "markdown",
   "metadata": {},
   "source": [
    "## hit_and_run"
   ]
  },
  {
   "cell_type": "code",
   "execution_count": 9,
   "metadata": {
    "scrolled": false
   },
   "outputs": [],
   "source": [
    "hit_and_run_trad = extract_set(\"F - Felony\\nM - Misdemeanor\\nN - Not Hit and Run\")\n",
    "df['hit_and_run'] = df['hit_and_run'].apply(lambda s : set_translate(hit_and_run_trad,s))\n",
    "df.dropna(subset=['hit_and_run'],inplace=True)"
   ]
  },
  {
   "cell_type": "markdown",
   "metadata": {},
   "source": [
    "Many collision_time are NaN, do we replace by some mean or keep it null or remove the rows ?"
   ]
  },
  {
   "cell_type": "markdown",
   "metadata": {},
   "source": [
    "## lighting"
   ]
  },
  {
   "cell_type": "code",
   "execution_count": 10,
   "metadata": {
    "scrolled": true
   },
   "outputs": [],
   "source": [
    "lighting_trad = {\"daylight\":\"A\",\"dusk or dawn\":\"B\",\"dark with street lights\":\"C\",\n",
    "                 \"dark with no street lights\":\"D\",\"dark with street lights not functioning\":\"E\"}"
   ]
  },
  {
   "cell_type": "code",
   "execution_count": 11,
   "metadata": {
    "scrolled": true
   },
   "outputs": [],
   "source": [
    "df['lighting'] = df['lighting'].apply(lambda s : set_translate(lighting_trad,s))"
   ]
  },
  {
   "cell_type": "markdown",
   "metadata": {},
   "source": [
    "## location_type"
   ]
  },
  {
   "cell_type": "code",
   "execution_count": 12,
   "metadata": {
    "scrolled": true
   },
   "outputs": [],
   "source": [
    "location_type_trad = extract_set(\"H - Highway\\nI - Intersection\\nR - Ramp\")\n"
   ]
  },
  {
   "cell_type": "code",
   "execution_count": 13,
   "metadata": {
    "scrolled": true
   },
   "outputs": [],
   "source": [
    "df['location_type'] = df['location_type'].apply(lambda s : set_translate(location_type_trad,s))"
   ]
  },
  {
   "cell_type": "markdown",
   "metadata": {},
   "source": [
    "## pcf_violation_category"
   ]
  },
  {
   "cell_type": "code",
   "execution_count": 14,
   "metadata": {
    "scrolled": false
   },
   "outputs": [
    {
     "name": "stdout",
     "output_type": "stream",
     "text": [
      "{'driving or bicycling under the influence of alcohol or drug': '01', 'impeding traffic': '02', 'unsafe speed': '03', 'following too closely': '04', 'wrong side of road': '05', 'improper passing': '06', 'unsafe lane change': '07', 'improper turning': '08', 'automobile right of way': '09', 'pedestrian right of way': '10', 'pedestrian violation': '11', 'traffic signals and signs': '12', 'hazardous parking': '13', 'lights': '14', 'brakes': '15', 'other equipment': '16', 'other hazardous violation': '17', 'other than driver (or pedestrian)': '18', 'unsafe starting or backing': '19', 'other improper driving': '22', 'pedestrian or \"other\" under the influence of alcohol or drug': '23', 'fell asleep': '24', 'unknown': '00', 'dui': '01', 'speeding': '03'}\n"
     ]
    }
   ],
   "source": [
    "trad=\"01 - Driving or Bicycling Under the Influence of Alcohol or Drug\\n02 - Impeding Traffic\\n03 - Unsafe Speed\\n04 - Following Too Closely\\n05 - Wrong Side of Road\\n06 - Improper Passing\"\n",
    "trad2=\"\\n07 - Unsafe Lane Change\\n08 - Improper Turning\\n09 - Automobile Right of Way\\n10 - Pedestrian Right of Way\\n11 - Pedestrian Violation\\n12 - Traffic Signals and Signs\\n13 - Hazardous Parking\\n14 - Lights\\n15 - Brakes\\n16 - Other Equipment\\n17 - Other Hazardous Violation\\n18 - Other Than Driver (or Pedestrian)\\n19 - Unsafe Starting or Backing \\n22 - Other Improper Driving\\n23 - Pedestrian or \\\"Other\\\" Under the Influence of Alcohol or Drug\\n24 - Fell Asleep\\n00 - Unknown\"\n",
    "\n",
    "trad =trad+trad2\n",
    "pcf_violation_category_trad = extract_set(trad)\n",
    "pcf_violation_category_trad['dui']='01'\n",
    "pcf_violation_category_trad['speeding']='03'\n",
    "print(pcf_violation_category_trad)"
   ]
  },
  {
   "cell_type": "code",
   "execution_count": 15,
   "metadata": {
    "scrolled": true
   },
   "outputs": [],
   "source": [
    "before = df['pcf_violation_category'].isnull().sum()"
   ]
  },
  {
   "cell_type": "code",
   "execution_count": 16,
   "metadata": {
    "scrolled": true
   },
   "outputs": [],
   "source": [
    "df['pcf_violation_category'] = df['pcf_violation_category'].apply(lambda s : set_translate(pcf_violation_category_trad,s))"
   ]
  },
  {
   "cell_type": "code",
   "execution_count": 17,
   "metadata": {},
   "outputs": [
    {
     "data": {
      "text/plain": [
       "0     08\n",
       "1     13\n",
       "2     17\n",
       "3     12\n",
       "4     03\n",
       "5     19\n",
       "6     07\n",
       "7     03\n",
       "8     09\n",
       "9     19\n",
       "10    17\n",
       "11    05\n",
       "12    12\n",
       "13    03\n",
       "14    08\n",
       "15    12\n",
       "16    01\n",
       "17    09\n",
       "18    08\n",
       "19    08\n",
       "20    18\n",
       "21    03\n",
       "22    08\n",
       "23    24\n",
       "24    19\n",
       "25    03\n",
       "26    03\n",
       "27    12\n",
       "28    06\n",
       "29    03\n",
       "30    03\n",
       "31    03\n",
       "32    08\n",
       "33    07\n",
       "34    08\n",
       "35    03\n",
       "36    10\n",
       "37    03\n",
       "38    03\n",
       "39    03\n",
       "40    03\n",
       "41    03\n",
       "42    07\n",
       "43    07\n",
       "44    03\n",
       "45    08\n",
       "46    03\n",
       "47    03\n",
       "48    18\n",
       "49    03\n",
       "Name: pcf_violation_category, dtype: object"
      ]
     },
     "metadata": {},
     "output_type": "display_data"
    }
   ],
   "source": [
    "display(df['pcf_violation_category'].head(50))"
   ]
  },
  {
   "cell_type": "code",
   "execution_count": 18,
   "metadata": {},
   "outputs": [
    {
     "data": {
      "text/plain": [
       "0     NaN\n",
       "1       A\n",
       "2       A\n",
       "3       A\n",
       "4     NaN\n",
       "5     NaN\n",
       "6       A\n",
       "7     NaN\n",
       "8       A\n",
       "9     NaN\n",
       "10      A\n",
       "11      A\n",
       "12      A\n",
       "13    NaN\n",
       "14    NaN\n",
       "15      A\n",
       "16      A\n",
       "17      C\n",
       "18    NaN\n",
       "19    NaN\n",
       "20    NaN\n",
       "21    NaN\n",
       "22    NaN\n",
       "23    NaN\n",
       "24    NaN\n",
       "25    NaN\n",
       "26    NaN\n",
       "27      A\n",
       "28    NaN\n",
       "29    NaN\n",
       "30    NaN\n",
       "31    NaN\n",
       "32    NaN\n",
       "33      A\n",
       "34    NaN\n",
       "35    NaN\n",
       "36      A\n",
       "37    NaN\n",
       "38    NaN\n",
       "39    NaN\n",
       "40    NaN\n",
       "41    NaN\n",
       "42      A\n",
       "43      A\n",
       "44    NaN\n",
       "45    NaN\n",
       "46    NaN\n",
       "47    NaN\n",
       "48    NaN\n",
       "49    NaN\n",
       "Name: pcf_violation_subsection, dtype: object"
      ]
     },
     "metadata": {},
     "output_type": "display_data"
    }
   ],
   "source": [
    "display(df['pcf_violation_subsection'].head(50))"
   ]
  },
  {
   "cell_type": "markdown",
   "metadata": {},
   "source": [
    "## primary_collision_factor"
   ]
  },
  {
   "cell_type": "code",
   "execution_count": 19,
   "metadata": {
    "scrolled": true
   },
   "outputs": [],
   "source": [
    "primary_collision_factor_trad = extract_set(\"A - Vehicle Code Violation\\nB - Other Improper Driving\\nC - Other Than Driver\\nD - Unknown\\nE - Fell Asleep\")"
   ]
  },
  {
   "cell_type": "code",
   "execution_count": 20,
   "metadata": {
    "scrolled": true
   },
   "outputs": [],
   "source": [
    "df['primary_collision_factor'] = df['primary_collision_factor'].apply(lambda s : set_translate(primary_collision_factor_trad,s))"
   ]
  },
  {
   "cell_type": "markdown",
   "metadata": {},
   "source": [
    "## road_condition_1 and 2"
   ]
  },
  {
   "cell_type": "code",
   "execution_count": 21,
   "metadata": {
    "scrolled": true
   },
   "outputs": [],
   "source": [
    "road_condition_1_trad ={\"holes\":\"A\",\"loose material\":\"B\",\"obstruction\":\"C\",\n",
    "                 \"construction\":\"D\",\"reduced width\":\"E\",\"flooded\":\"F\",\"other\":\"G\",\"normal\":\"H\"}\n",
    "\n"
   ]
  },
  {
   "cell_type": "code",
   "execution_count": 22,
   "metadata": {
    "scrolled": true
   },
   "outputs": [],
   "source": [
    "df['road_condition_1'] = df['road_condition_1'].apply(lambda s : set_translate(road_condition_1_trad,s))\n",
    "df['road_condition_2'] = df['road_condition_2'].apply(lambda s : set_translate(road_condition_1_trad,s))\n"
   ]
  },
  {
   "cell_type": "markdown",
   "metadata": {},
   "source": [
    "## road_surface"
   ]
  },
  {
   "cell_type": "code",
   "execution_count": 23,
   "metadata": {
    "scrolled": true
   },
   "outputs": [],
   "source": [
    "road_surface_trad = extract_set(\"A - Dry\\nB - Wet\\nC - Snowy\\nD - Slippery\")\n"
   ]
  },
  {
   "cell_type": "code",
   "execution_count": 24,
   "metadata": {
    "scrolled": true
   },
   "outputs": [],
   "source": [
    "df['road_surface'] = df['road_surface'].apply(lambda s : set_translate(road_surface_trad,s))"
   ]
  },
  {
   "cell_type": "markdown",
   "metadata": {},
   "source": [
    "## type_of_collision"
   ]
  },
  {
   "cell_type": "code",
   "execution_count": 25,
   "metadata": {
    "scrolled": true
   },
   "outputs": [],
   "source": [
    "type_of_collision_trad = extract_set(\"A - Head-On\\nB - Sideswipe\\nC - Rear End\\nD - Broadside\\nE - Hit Object\\nF - Overturned\\nG - Pedestrian\\nH - Other\")"
   ]
  },
  {
   "cell_type": "code",
   "execution_count": 26,
   "metadata": {
    "scrolled": true
   },
   "outputs": [],
   "source": [
    "df['type_of_collision'] = df['type_of_collision'].apply(lambda s : set_translate(type_of_collision_trad,s))"
   ]
  },
  {
   "cell_type": "markdown",
   "metadata": {},
   "source": [
    "## weather_1"
   ]
  },
  {
   "cell_type": "code",
   "execution_count": 27,
   "metadata": {
    "scrolled": true
   },
   "outputs": [],
   "source": [
    "weather_1_trad = extract_set(\"A - Clear\\nB - Cloudy\\nC - Raining\\nD - Snowing\\nE - Fog\\nF - Other\\nG - Wind\")"
   ]
  },
  {
   "cell_type": "code",
   "execution_count": 28,
   "metadata": {
    "scrolled": true
   },
   "outputs": [],
   "source": [
    "df['weather_1'] = df['weather_1'].apply(lambda s : set_translate(weather_1_trad,s))\n",
    "df['weather_2'] = df['weather_2'].apply(lambda s : set_translate(weather_1_trad,s))"
   ]
  },
  {
   "cell_type": "markdown",
   "metadata": {},
   "source": [
    "##  Changing types"
   ]
  },
  {
   "cell_type": "code",
   "execution_count": 29,
   "metadata": {
    "scrolled": false
   },
   "outputs": [
    {
     "name": "stdout",
     "output_type": "stream",
     "text": [
      "case_id                      object\n",
      "collision_date               object\n",
      "collision_severity           object\n",
      "collision_time               object\n",
      "county_city_location          int64\n",
      "hit_and_run                  object\n",
      "jurisdiction                float64\n",
      "lighting                     object\n",
      "location_type                object\n",
      "officer_id                   object\n",
      "pcf_violation               float64\n",
      "pcf_violation_category       object\n",
      "pcf_violation_subsection     object\n",
      "population                  float64\n",
      "primary_collision_factor     object\n",
      "process_date                 object\n",
      "ramp_intersection           float64\n",
      "road_condition_1             object\n",
      "road_condition_2             object\n",
      "road_surface                 object\n",
      "tow_away                    float64\n",
      "type_of_collision            object\n",
      "weather_1                    object\n",
      "weather_2                    object\n",
      "dtype: object\n"
     ]
    }
   ],
   "source": [
    "print(df.dtypes)"
   ]
  },
  {
   "cell_type": "code",
   "execution_count": 30,
   "metadata": {},
   "outputs": [],
   "source": [
    "df['county_city_location'] = df['county_city_location'].astype(int)"
   ]
  },
  {
   "cell_type": "code",
   "execution_count": 31,
   "metadata": {},
   "outputs": [],
   "source": [
    "df['jurisdiction'] = df['jurisdiction'].astype('Int64')"
   ]
  },
  {
   "cell_type": "code",
   "execution_count": 32,
   "metadata": {},
   "outputs": [],
   "source": [
    "df['pcf_violation'] = df['pcf_violation'].astype('Int64')"
   ]
  },
  {
   "cell_type": "code",
   "execution_count": 33,
   "metadata": {},
   "outputs": [],
   "source": [
    "def float2int2str(x):\n",
    "    if x != x:\n",
    "        return x\n",
    "    else:\n",
    "        return str(int(x))"
   ]
  },
  {
   "cell_type": "code",
   "execution_count": 34,
   "metadata": {},
   "outputs": [],
   "source": [
    "df['population'] = df['population'].apply(float2int2str)"
   ]
  },
  {
   "cell_type": "code",
   "execution_count": 35,
   "metadata": {},
   "outputs": [],
   "source": [
    "df['ramp_intersection'] = df['ramp_intersection'].apply(float2int2str)"
   ]
  },
  {
   "cell_type": "code",
   "execution_count": 36,
   "metadata": {},
   "outputs": [],
   "source": [
    "df['tow_away'] = df['tow_away'].astype('Int64')"
   ]
  },
  {
   "cell_type": "code",
   "execution_count": 37,
   "metadata": {},
   "outputs": [
    {
     "name": "stdout",
     "output_type": "stream",
     "text": [
      "0\n"
     ]
    }
   ],
   "source": [
    "print(df['collision_severity'].isnull().sum())"
   ]
  },
  {
   "cell_type": "markdown",
   "metadata": {},
   "source": [
    "## Export"
   ]
  },
  {
   "cell_type": "code",
   "execution_count": 38,
   "metadata": {},
   "outputs": [],
   "source": [
    "df.to_csv(r'../collisions_clean.csv',index=False)"
   ]
  }
 ],
 "metadata": {
  "kernelspec": {
   "display_name": "Python 3",
   "language": "python",
   "name": "python3"
  },
  "language_info": {
   "codemirror_mode": {
    "name": "ipython",
    "version": 3
   },
   "file_extension": ".py",
   "mimetype": "text/x-python",
   "name": "python",
   "nbconvert_exporter": "python",
   "pygments_lexer": "ipython3",
   "version": "3.8.5"
  }
 },
 "nbformat": 4,
 "nbformat_minor": 4
}
