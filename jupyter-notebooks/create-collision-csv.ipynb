{
 "cells": [
  {
   "cell_type": "code",
   "execution_count": 1,
   "metadata": {},
   "outputs": [],
   "source": [
    "import pandas as pd\n",
    "import numpy as np"
   ]
  },
  {
   "cell_type": "code",
   "execution_count": 2,
   "metadata": {},
   "outputs": [
    {
     "name": "stderr",
     "output_type": "stream",
     "text": [
      "C:\\Users\\Harold\\anaconda3\\lib\\site-packages\\IPython\\core\\interactiveshell.py:3146: DtypeWarning: Columns (9) have mixed types.Specify dtype option on import or set low_memory=False.\n",
      "  has_raised = await self.run_ast_nodes(code_ast.body, cell_name,\n"
     ]
    }
   ],
   "source": [
    "col = pd.read_csv(\"../collisions_clean.csv\",dtype={'case_id': str})"
   ]
  },
  {
   "cell_type": "code",
   "execution_count": 3,
   "metadata": {},
   "outputs": [],
   "source": [
    "location = pd.read_csv(\"../location.csv\")"
   ]
  },
  {
   "cell_type": "code",
   "execution_count": 4,
   "metadata": {},
   "outputs": [],
   "source": [
    "road = pd.read_csv(\"../road.csv\")"
   ]
  },
  {
   "cell_type": "code",
   "execution_count": 5,
   "metadata": {},
   "outputs": [],
   "source": [
    "pcf = pd.read_csv(\"../pcf.csv\")"
   ]
  },
  {
   "cell_type": "markdown",
   "metadata": {},
   "source": [
    "## Put location in baby"
   ]
  },
  {
   "cell_type": "code",
   "execution_count": 6,
   "metadata": {},
   "outputs": [],
   "source": [
    "df = col.copy()"
   ]
  },
  {
   "cell_type": "code",
   "execution_count": 7,
   "metadata": {},
   "outputs": [],
   "source": [
    "df.drop(['population'], axis = 1,inplace=True)"
   ]
  },
  {
   "cell_type": "markdown",
   "metadata": {},
   "source": [
    "## Put road in baby"
   ]
  },
  {
   "cell_type": "code",
   "execution_count": 8,
   "metadata": {},
   "outputs": [],
   "source": [
    "df = df.merge(road, how='left', on=['road_surface','lighting','location_type','ramp_intersection'])"
   ]
  },
  {
   "cell_type": "code",
   "execution_count": 9,
   "metadata": {},
   "outputs": [],
   "source": [
    "df.drop(['road_surface','lighting','location_type','ramp_intersection'], axis = 1,inplace=True)"
   ]
  },
  {
   "cell_type": "markdown",
   "metadata": {},
   "source": [
    "## Put pcf in baby"
   ]
  },
  {
   "cell_type": "code",
   "execution_count": 10,
   "metadata": {},
   "outputs": [
    {
     "name": "stdout",
     "output_type": "stream",
     "text": [
      "   pcf_violation  pcf_violation_category pcf_violation_subsection  \\\n",
      "0        22107.0                     8.0                      NaN   \n",
      "1        22515.0                    13.0                        A   \n",
      "2        23114.0                    17.0                        A   \n",
      "3        22450.0                    12.0                        A   \n",
      "4        22350.0                     3.0                      NaN   \n",
      "\n",
      "  primary_collision_factor  pcf_id  \n",
      "0                        A       0  \n",
      "1                        A       1  \n",
      "2                        A       2  \n",
      "3                        A       3  \n",
      "4                        A       4  \n"
     ]
    }
   ],
   "source": [
    "print(pcf.head(5))"
   ]
  },
  {
   "cell_type": "code",
   "execution_count": 11,
   "metadata": {},
   "outputs": [],
   "source": [
    "df = df.merge(pcf, how='left', on=['primary_collision_factor','pcf_violation','pcf_violation_category','pcf_violation_subsection'])"
   ]
  },
  {
   "cell_type": "code",
   "execution_count": 12,
   "metadata": {},
   "outputs": [],
   "source": [
    "df.drop(['primary_collision_factor','pcf_violation','pcf_violation_category','pcf_violation_subsection'], axis = 1,inplace=True)"
   ]
  },
  {
   "cell_type": "code",
   "execution_count": 13,
   "metadata": {
    "scrolled": false
   },
   "outputs": [
    {
     "name": "stdout",
     "output_type": "stream",
     "text": [
      "   case_id collision_date  collision_severity collision_time  \\\n",
      "0  0000001     2002-01-18                   5       15:30:00   \n",
      "1  0000002     2002-02-13                   5       19:30:00   \n",
      "2  0000003     2002-02-11                   5       15:30:00   \n",
      "3  0000004     2002-02-12                   5       07:45:00   \n",
      "4  0000005     2002-02-14                   2       11:35:00   \n",
      "\n",
      "   county_city_location hit_and_run  jurisdiction officer_id process_date  \\\n",
      "0                  1900           N        9575.0      16418   2002-06-14   \n",
      "1                  1500           M        9420.0      14360   2002-03-29   \n",
      "2                  1502           M        9420.0      16117   2003-07-15   \n",
      "3                  1500           M        9420.0       6078   2002-05-22   \n",
      "4                  1500           N        9420.0      13851   2003-07-28   \n",
      "\n",
      "  road_condition_1 road_condition_2  tow_away type_of_collision weather_1  \\\n",
      "0                H              NaN       1.0                 C         A   \n",
      "1                H              NaN       0.0                 E         A   \n",
      "2                H              NaN       0.0                 E         A   \n",
      "3                H              NaN       0.0                 B         A   \n",
      "4                H              NaN       1.0                 F         A   \n",
      "\n",
      "  weather_2  road_id  pcf_id  \n",
      "0       NaN        0       0  \n",
      "1       NaN        1       1  \n",
      "2       NaN        2       2  \n",
      "3       NaN        0       3  \n",
      "4       NaN        0       4  \n"
     ]
    }
   ],
   "source": [
    "print(df.head(5))"
   ]
  },
  {
   "cell_type": "code",
   "execution_count": 14,
   "metadata": {},
   "outputs": [],
   "source": [
    "df.drop(['road_condition_1' ,'road_condition_2','weather_1' ,'weather_2'], axis = 1,inplace=True)"
   ]
  },
  {
   "cell_type": "markdown",
   "metadata": {},
   "source": [
    "## Merge date and time"
   ]
  },
  {
   "cell_type": "code",
   "execution_count": 15,
   "metadata": {},
   "outputs": [],
   "source": [
    "df['date'] = df['collision_date']+' '+ df['collision_time']"
   ]
  },
  {
   "cell_type": "code",
   "execution_count": 16,
   "metadata": {},
   "outputs": [],
   "source": [
    "df.drop(['collision_date','collision_time'], axis = 1,inplace=True)"
   ]
  },
  {
   "cell_type": "code",
   "execution_count": 17,
   "metadata": {},
   "outputs": [],
   "source": [
    "df.rename({'date':'collision_date'},inplace=True)"
   ]
  },
  {
   "cell_type": "code",
   "execution_count": 21,
   "metadata": {},
   "outputs": [
    {
     "name": "stdout",
     "output_type": "stream",
     "text": [
      "0\n"
     ]
    }
   ],
   "source": [
    "print(len(df['case_id']) - len(df['case_id'].drop_duplicates() ))"
   ]
  },
  {
   "cell_type": "code",
   "execution_count": 23,
   "metadata": {},
   "outputs": [
    {
     "name": "stdout",
     "output_type": "stream",
     "text": [
      "1\n"
     ]
    }
   ],
   "source": [
    "print(len(df['case_id'].tail(1)))"
   ]
  },
  {
   "cell_type": "code",
   "execution_count": 18,
   "metadata": {},
   "outputs": [],
   "source": [
    "df.to_csv(r'../collision.csv', index = False)"
   ]
  }
 ],
 "metadata": {
  "kernelspec": {
   "display_name": "Python 3",
   "language": "python",
   "name": "python3"
  },
  "language_info": {
   "codemirror_mode": {
    "name": "ipython",
    "version": 3
   },
   "file_extension": ".py",
   "mimetype": "text/x-python",
   "name": "python",
   "nbconvert_exporter": "python",
   "pygments_lexer": "ipython3",
   "version": "3.8.5"
  }
 },
 "nbformat": 4,
 "nbformat_minor": 4
}
