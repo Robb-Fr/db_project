{
 "cells": [
  {
   "cell_type": "markdown",
   "id": "reliable-evanescence",
   "metadata": {},
   "source": [
    "# Sub-Entities' tables\n",
    "This notebook will create the `.csv` files for the tables:\n",
    "* Location\n",
    "* Road\n",
    "* Pcf\n",
    "* Vehicule\n",
    "\n",
    "None of these require any other table to be created, they should then be the first to be created."
   ]
  },
  {
   "cell_type": "code",
   "execution_count": 119,
   "id": "desperate-district",
   "metadata": {},
   "outputs": [],
   "source": [
    "import pandas as pd\n",
    "import numpy as np"
   ]
  },
  {
   "cell_type": "code",
   "execution_count": 120,
   "id": "matched-router",
   "metadata": {},
   "outputs": [
    {
     "name": "stderr",
     "output_type": "stream",
     "text": [
      "/usr/local/lib/python3.9/site-packages/IPython/core/interactiveshell.py:3155: DtypeWarning: Columns (9) have mixed types.Specify dtype option on import or set low_memory=False.\n",
      "  has_raised = await self.run_ast_nodes(code_ast.body, cell_name,\n"
     ]
    }
   ],
   "source": [
    "collision = pd.read_csv(\"../collisions_clean.csv\")"
   ]
  },
  {
   "cell_type": "code",
   "execution_count": null,
   "id": "hindu-geneva",
   "metadata": {},
   "outputs": [],
   "source": [
    "party = pd.read_csv(\"../parties_clean.csv\")"
   ]
  },
  {
   "cell_type": "code",
   "execution_count": null,
   "id": "quality-denver",
   "metadata": {},
   "outputs": [],
   "source": [
    "vicitm = pd.read_csv(\"../victims_clean.csv\")"
   ]
  },
  {
   "cell_type": "markdown",
   "id": "aboriginal-cuisine",
   "metadata": {},
   "source": [
    "## Location\n",
    "\n",
    "We have to read `county_city_location` and `population` entries from `collision`"
   ]
  },
  {
   "cell_type": "code",
   "execution_count": null,
   "id": "signed-metabolism",
   "metadata": {
    "scrolled": true
   },
   "outputs": [],
   "source": [
    "df_location = pd.DataFrame()\n",
    "df_location['county_city_location'] = collision['county_city_location']\n",
    "df_location['population'] = collision['population']\n",
    "\n",
    "df_location = df_location.drop_duplicates()"
   ]
  },
  {
   "cell_type": "code",
   "execution_count": null,
   "id": "swiss-february",
   "metadata": {},
   "outputs": [],
   "source": [
    "df_location.to_csv(r'../location.csv', index = False)"
   ]
  },
  {
   "cell_type": "code",
   "execution_count": null,
   "id": "opposed-defeat",
   "metadata": {
    "scrolled": true
   },
   "outputs": [],
   "source": [
    "test = pd.read_csv(\"../location.csv\")\n",
    "    \n",
    "print(test.head(20))"
   ]
  },
  {
   "cell_type": "markdown",
   "id": "excess-shakespeare",
   "metadata": {},
   "source": [
    "## Road\n",
    "We have to read `road_surface`, `lighting`, `location_type`, `ramp_intersection` entries from `collision`. We'll also generate a primary key `road_id`."
   ]
  },
  {
   "cell_type": "code",
   "execution_count": null,
   "id": "demonstrated-mercy",
   "metadata": {},
   "outputs": [],
   "source": [
    "df_road = pd.DataFrame()\n",
    "df_road['road_surface'] = collision['road_surface']\n",
    "df_road['lighting'] = collision['lighting']\n",
    "df_road['location_type'] = collision['location_type']\n",
    "df_road['ramp_intersection'] = collision['ramp_intersection']\n",
    "\n",
    "df_road.drop_duplicates()\n",
    "\n",
    "df_road['road_id'] = range(0,len(df_road))"
   ]
  },
  {
   "cell_type": "code",
   "execution_count": null,
   "id": "comfortable-credits",
   "metadata": {
    "scrolled": true
   },
   "outputs": [],
   "source": [
    "df_road.to_csv(r'../road.csv', index = False)\n",
    "\n",
    "test = pd.read_csv(\"../road.csv\")\n",
    "    \n",
    "print(test.head(20))"
   ]
  },
  {
   "cell_type": "markdown",
   "id": "valued-capability",
   "metadata": {},
   "source": [
    "## PCF\n",
    "We have to read `pcf_violation`, `pcf_violation_category`, `pcf_violation_subsection` in `collisions`. We'll also generate a primary key `pcf_id`."
   ]
  },
  {
   "cell_type": "code",
   "execution_count": null,
   "id": "embedded-shakespeare",
   "metadata": {},
   "outputs": [],
   "source": [
    "df_pcf = pd.DataFrame()\n",
    "df_pcf['pcf_violation'] = collision['pcf_violation']\n",
    "df_pcf['pcf_violation_category'] = collision['pcf_violation_category']\n",
    "df_pcf['pcf_violation_subsection'] = collision['pcf_violation_subsection']\n",
    "\n",
    "df_pcf = df_pcf.drop_duplicates()\n",
    "\n",
    "df_pcf['pcf_id'] = range(0,len(df_pcf))"
   ]
  },
  {
   "cell_type": "code",
   "execution_count": null,
   "id": "radical-nursery",
   "metadata": {},
   "outputs": [],
   "source": [
    "df_pcf.to_csv(r'../pcf.csv', index = False)\n",
    "\n",
    "test = pd.read_csv(\"../pcf.csv\")\n",
    "    \n",
    "print(test.head(20))"
   ]
  },
  {
   "cell_type": "markdown",
   "id": "golden-territory",
   "metadata": {},
   "source": [
    "## Vehicule\n",
    "We have to read `statewide_vehicule_type`, `vehicule_make`, `vehicule_year` in `party`. We'll also generate a primary key `vehicule_id`."
   ]
  },
  {
   "cell_type": "code",
   "execution_count": null,
   "id": "deadly-module",
   "metadata": {},
   "outputs": [],
   "source": [
    "df_vehicle = pd.DataFrame()\n",
    "df_vehicle['statewide_vehicle_type'] = party['statewide_vehicle_type']\n",
    "df_vehicle['vehicle_make'] = party['vehicle_make']\n",
    "df_vehicle['vehicle_year'] = party['vehicle_year']\n",
    "\n",
    "df_vehicle = df_vehicle.drop_duplicates()\n",
    "\n",
    "df_vehicle['vehicle_id'] = range(0,len(df_vehicle))"
   ]
  },
  {
   "cell_type": "code",
   "execution_count": null,
   "id": "standing-worth",
   "metadata": {},
   "outputs": [],
   "source": [
    "df_vehicle.to_csv(r'../vehicle.csv', index = False)\n",
    "\n",
    "test = pd.read_csv(\"../vehicle.csv\")\n",
    "    \n",
    "print(test.head(20))"
   ]
  },
  {
   "cell_type": "code",
   "execution_count": null,
   "id": "proved-primary",
   "metadata": {},
   "outputs": [],
   "source": []
  }
 ],
 "metadata": {
  "kernelspec": {
   "display_name": "Python 3",
   "language": "python",
   "name": "python3"
  },
  "language_info": {
   "codemirror_mode": {
    "name": "ipython",
    "version": 3
   },
   "file_extension": ".py",
   "mimetype": "text/x-python",
   "name": "python",
   "nbconvert_exporter": "python",
   "pygments_lexer": "ipython3",
   "version": "3.9.4"
  }
 },
 "nbformat": 4,
 "nbformat_minor": 5
}
