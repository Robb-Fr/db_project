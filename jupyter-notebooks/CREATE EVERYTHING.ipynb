{
 "cells": [
  {
   "cell_type": "code",
   "execution_count": 1,
   "metadata": {
    "scrolled": true
   },
   "outputs": [],
   "source": [
    "import pandas as pd\n",
    "import numpy as np\n",
    "import matplotlib as plt\n",
    "%matplotlib inline"
   ]
  },
  {
   "cell_type": "code",
   "execution_count": 2,
   "metadata": {
    "scrolled": true
   },
   "outputs": [],
   "source": [
    "collision =  pd.read_csv(\"../collisions2018.csv\",dtype={\"officer_id\":str,'case_id': str})"
   ]
  },
  {
   "cell_type": "markdown",
   "metadata": {},
   "source": [
    "# CLEANING COLLISION !!!!!!!!!"
   ]
  },
  {
   "cell_type": "markdown",
   "metadata": {},
   "source": [
    "## Utility functions"
   ]
  },
  {
   "cell_type": "code",
   "execution_count": 3,
   "metadata": {
    "scrolled": true
   },
   "outputs": [],
   "source": [
    "def extract_set(description):\n",
    "    lines = description.split(\"\\n\")\n",
    "    trad = {}\n",
    "    for line in lines:\n",
    "        l,r = line.split(\"-\",1)\n",
    "        l= l.strip()\n",
    "        r= r.strip().lower()\n",
    "        trad[r]= l\n",
    "        \n",
    "    return trad"
   ]
  },
  {
   "cell_type": "code",
   "execution_count": 4,
   "metadata": {
    "scrolled": true
   },
   "outputs": [
    {
     "data": {
      "text/plain": [
       "{'had not been drinking': 'A',\n",
       " 'had been drinking, under influence': 'B',\n",
       " 'had been drinking, not under influence': 'C',\n",
       " 'had been drinking, impairment unknown': 'D',\n",
       " 'impairment unknown': 'G',\n",
       " 'not applicable': 'H'}"
      ]
     },
     "execution_count": 4,
     "metadata": {},
     "output_type": "execute_result"
    }
   ],
   "source": [
    "extract_set(\"A - Had Not Been Drinking\\nB - Had Been Drinking, Under Influence\\nC - Had Been Drinking, Not Under Influence\\nD - Had Been Drinking, Impairment Unknown\\nG - Impairment Unknown\\nH - Not Applicable\")"
   ]
  },
  {
   "cell_type": "code",
   "execution_count": 5,
   "metadata": {
    "scrolled": true
   },
   "outputs": [],
   "source": [
    "def set_translate(trad,s):\n",
    "    if s in trad:\n",
    "        return trad[s]\n",
    "    else:\n",
    "        return np.nan"
   ]
  },
  {
   "cell_type": "markdown",
   "metadata": {},
   "source": [
    "## Collision_severity"
   ]
  },
  {
   "cell_type": "code",
   "execution_count": 6,
   "metadata": {
    "scrolled": true
   },
   "outputs": [],
   "source": [
    "collision_severity_trad = {\"fatal\":\"1\",\"severe injury\":\"2\",\"other injury\":\"3\",\"pain\":\"4\",\"property damage only\":\"5\"}"
   ]
  },
  {
   "cell_type": "code",
   "execution_count": 7,
   "metadata": {
    "scrolled": true
   },
   "outputs": [],
   "source": [
    "collision['collision_severity'] = collision['collision_severity'].apply(lambda s : set_translate(collision_severity_trad,s))"
   ]
  },
  {
   "cell_type": "markdown",
   "metadata": {},
   "source": [
    "## hit_and_run"
   ]
  },
  {
   "cell_type": "code",
   "execution_count": 8,
   "metadata": {
    "scrolled": false
   },
   "outputs": [],
   "source": [
    "hit_and_run_trad = extract_set(\"F - Felony\\nM - Misdemeanor\\nN - Not Hit and Run\")\n",
    "collision['hit_and_run'] = collision['hit_and_run'].apply(lambda s : set_translate(hit_and_run_trad,s))\n",
    "collision.dropna(subset=['hit_and_run'],inplace=True)"
   ]
  },
  {
   "cell_type": "markdown",
   "metadata": {},
   "source": [
    "Many collision_time are NaN, do we replace by some mean or keep it null or remove the rows ?"
   ]
  },
  {
   "cell_type": "markdown",
   "metadata": {},
   "source": [
    "## lighting"
   ]
  },
  {
   "cell_type": "code",
   "execution_count": 9,
   "metadata": {
    "scrolled": true
   },
   "outputs": [],
   "source": [
    "lighting_trad = {\"daylight\":\"A\",\"dusk or dawn\":\"B\",\"dark with street lights\":\"C\",\n",
    "                 \"dark with no street lights\":\"D\",\"dark with street lights not functioning\":\"E\"}"
   ]
  },
  {
   "cell_type": "code",
   "execution_count": 10,
   "metadata": {
    "scrolled": true
   },
   "outputs": [],
   "source": [
    "collision['lighting'] = collision['lighting'].apply(lambda s : set_translate(lighting_trad,s))"
   ]
  },
  {
   "cell_type": "markdown",
   "metadata": {},
   "source": [
    "## location_type"
   ]
  },
  {
   "cell_type": "code",
   "execution_count": 11,
   "metadata": {
    "scrolled": true
   },
   "outputs": [],
   "source": [
    "location_type_trad = extract_set(\"H - Highway\\nI - Intersection\\nR - Ramp\")\n"
   ]
  },
  {
   "cell_type": "code",
   "execution_count": 12,
   "metadata": {
    "scrolled": true
   },
   "outputs": [],
   "source": [
    "collision['location_type'] = collision['location_type'].apply(lambda s : set_translate(location_type_trad,s))"
   ]
  },
  {
   "cell_type": "markdown",
   "metadata": {},
   "source": [
    "## pcf_violation_category"
   ]
  },
  {
   "cell_type": "code",
   "execution_count": 13,
   "metadata": {
    "scrolled": false
   },
   "outputs": [
    {
     "name": "stdout",
     "output_type": "stream",
     "text": [
      "{'driving or bicycling under the influence of alcohol or drug': '01', 'impeding traffic': '02', 'unsafe speed': '03', 'following too closely': '04', 'wrong side of road': '05', 'improper passing': '06', 'unsafe lane change': '07', 'improper turning': '08', 'automobile right of way': '09', 'pedestrian right of way': '10', 'pedestrian violation': '11', 'traffic signals and signs': '12', 'hazardous parking': '13', 'lights': '14', 'brakes': '15', 'other equipment': '16', 'other hazardous violation': '17', 'other than driver (or pedestrian)': '18', 'unsafe starting or backing': '19', 'other improper driving': '22', 'pedestrian or \"other\" under the influence of alcohol or drug': '23', 'fell asleep': '24', 'unknown': '00', 'dui': '01', 'speeding': '03'}\n"
     ]
    }
   ],
   "source": [
    "trad=\"01 - Driving or Bicycling Under the Influence of Alcohol or Drug\\n02 - Impeding Traffic\\n03 - Unsafe Speed\\n04 - Following Too Closely\\n05 - Wrong Side of Road\\n06 - Improper Passing\"\n",
    "trad2=\"\\n07 - Unsafe Lane Change\\n08 - Improper Turning\\n09 - Automobile Right of Way\\n10 - Pedestrian Right of Way\\n11 - Pedestrian Violation\\n12 - Traffic Signals and Signs\\n13 - Hazardous Parking\\n14 - Lights\\n15 - Brakes\\n16 - Other Equipment\\n17 - Other Hazardous Violation\\n18 - Other Than Driver (or Pedestrian)\\n19 - Unsafe Starting or Backing \\n22 - Other Improper Driving\\n23 - Pedestrian or \\\"Other\\\" Under the Influence of Alcohol or Drug\\n24 - Fell Asleep\\n00 - Unknown\"\n",
    "\n",
    "trad =trad+trad2\n",
    "pcf_violation_category_trad = extract_set(trad)\n",
    "pcf_violation_category_trad['dui']='01'\n",
    "pcf_violation_category_trad['speeding']='03'\n",
    "print(pcf_violation_category_trad)"
   ]
  },
  {
   "cell_type": "code",
   "execution_count": 14,
   "metadata": {
    "scrolled": true
   },
   "outputs": [],
   "source": [
    "before = collision['pcf_violation_category'].isnull().sum()"
   ]
  },
  {
   "cell_type": "code",
   "execution_count": 15,
   "metadata": {
    "scrolled": true
   },
   "outputs": [],
   "source": [
    "collision['pcf_violation_category'] = collision['pcf_violation_category'].apply(lambda s : set_translate(pcf_violation_category_trad,s))"
   ]
  },
  {
   "cell_type": "markdown",
   "metadata": {},
   "source": [
    "## primary_collision_factor"
   ]
  },
  {
   "cell_type": "code",
   "execution_count": 16,
   "metadata": {
    "scrolled": true
   },
   "outputs": [],
   "source": [
    "primary_collision_factor_trad = extract_set(\"A - Vehicle Code Violation\\nB - Other Improper Driving\\nC - Other Than Driver\\nD - Unknown\\nE - Fell Asleep\")"
   ]
  },
  {
   "cell_type": "code",
   "execution_count": 17,
   "metadata": {
    "scrolled": true
   },
   "outputs": [],
   "source": [
    "collision['primary_collision_factor'] = collision['primary_collision_factor'].apply(lambda s : set_translate(primary_collision_factor_trad,s))"
   ]
  },
  {
   "cell_type": "markdown",
   "metadata": {},
   "source": [
    "## road_condition_1 and 2"
   ]
  },
  {
   "cell_type": "code",
   "execution_count": 18,
   "metadata": {
    "scrolled": true
   },
   "outputs": [],
   "source": [
    "road_condition_1_trad ={\"holes\":\"A\",\"loose material\":\"B\",\"obstruction\":\"C\",\n",
    "                 \"construction\":\"D\",\"reduced width\":\"E\",\"flooded\":\"F\",\"other\":\"G\",\"normal\":\"H\"}\n",
    "\n"
   ]
  },
  {
   "cell_type": "code",
   "execution_count": 19,
   "metadata": {
    "scrolled": true
   },
   "outputs": [],
   "source": [
    "collision['road_condition_1'] = collision['road_condition_1'].apply(lambda s : set_translate(road_condition_1_trad,s))\n",
    "collision['road_condition_2'] = collision['road_condition_2'].apply(lambda s : set_translate(road_condition_1_trad,s))\n"
   ]
  },
  {
   "cell_type": "markdown",
   "metadata": {},
   "source": [
    "## road_surface"
   ]
  },
  {
   "cell_type": "code",
   "execution_count": 20,
   "metadata": {
    "scrolled": true
   },
   "outputs": [],
   "source": [
    "road_surface_trad = extract_set(\"A - Dry\\nB - Wet\\nC - Snowy\\nD - Slippery\")\n"
   ]
  },
  {
   "cell_type": "code",
   "execution_count": 21,
   "metadata": {
    "scrolled": true
   },
   "outputs": [],
   "source": [
    "collision['road_surface'] = collision['road_surface'].apply(lambda s : set_translate(road_surface_trad,s))"
   ]
  },
  {
   "cell_type": "markdown",
   "metadata": {},
   "source": [
    "## type_of_collision"
   ]
  },
  {
   "cell_type": "code",
   "execution_count": 22,
   "metadata": {
    "scrolled": true
   },
   "outputs": [],
   "source": [
    "type_of_collision_trad = extract_set(\"A - Head-On\\nB - Sideswipe\\nC - Rear End\\nD - Broadside\\nE - Hit Object\\nF - Overturned\\nG - Pedestrian\\nH - Other\")"
   ]
  },
  {
   "cell_type": "code",
   "execution_count": 23,
   "metadata": {
    "scrolled": true
   },
   "outputs": [],
   "source": [
    "collision['type_of_collision'] = collision['type_of_collision'].apply(lambda s : set_translate(type_of_collision_trad,s))"
   ]
  },
  {
   "cell_type": "markdown",
   "metadata": {},
   "source": [
    "## weather_1"
   ]
  },
  {
   "cell_type": "code",
   "execution_count": 24,
   "metadata": {
    "scrolled": true
   },
   "outputs": [],
   "source": [
    "weather_1_trad = extract_set(\"A - Clear\\nB - Cloudy\\nC - Raining\\nD - Snowing\\nE - Fog\\nF - Other\\nG - Wind\")"
   ]
  },
  {
   "cell_type": "code",
   "execution_count": 25,
   "metadata": {
    "scrolled": true
   },
   "outputs": [],
   "source": [
    "collision['weather_1'] = collision['weather_1'].apply(lambda s : set_translate(weather_1_trad,s))\n",
    "collision['weather_2'] = collision['weather_2'].apply(lambda s : set_translate(weather_1_trad,s))"
   ]
  },
  {
   "cell_type": "markdown",
   "metadata": {},
   "source": [
    "##  Changing types"
   ]
  },
  {
   "cell_type": "code",
   "execution_count": 26,
   "metadata": {
    "scrolled": false
   },
   "outputs": [
    {
     "name": "stdout",
     "output_type": "stream",
     "text": [
      "case_id                      object\n",
      "collision_date               object\n",
      "collision_severity           object\n",
      "collision_time               object\n",
      "county_city_location          int64\n",
      "hit_and_run                  object\n",
      "jurisdiction                float64\n",
      "lighting                     object\n",
      "location_type                object\n",
      "officer_id                   object\n",
      "pcf_violation               float64\n",
      "pcf_violation_category       object\n",
      "pcf_violation_subsection     object\n",
      "population                  float64\n",
      "primary_collision_factor     object\n",
      "process_date                 object\n",
      "ramp_intersection           float64\n",
      "road_condition_1             object\n",
      "road_condition_2             object\n",
      "road_surface                 object\n",
      "tow_away                    float64\n",
      "type_of_collision            object\n",
      "weather_1                    object\n",
      "weather_2                    object\n",
      "dtype: object\n"
     ]
    }
   ],
   "source": [
    "print(collision.dtypes)"
   ]
  },
  {
   "cell_type": "code",
   "execution_count": 27,
   "metadata": {},
   "outputs": [],
   "source": [
    "collision['county_city_location'] = collision['county_city_location'].astype(int)"
   ]
  },
  {
   "cell_type": "code",
   "execution_count": 28,
   "metadata": {},
   "outputs": [],
   "source": [
    "collision['jurisdiction'] = collision['jurisdiction'].astype('Int64')"
   ]
  },
  {
   "cell_type": "code",
   "execution_count": 29,
   "metadata": {},
   "outputs": [],
   "source": [
    "collision['pcf_violation'] = collision['pcf_violation'].astype('Int64')"
   ]
  },
  {
   "cell_type": "code",
   "execution_count": 30,
   "metadata": {},
   "outputs": [],
   "source": [
    "def float2int2str(x):\n",
    "    if x != x:\n",
    "        return x\n",
    "    else:\n",
    "        return str(int(x))"
   ]
  },
  {
   "cell_type": "code",
   "execution_count": 31,
   "metadata": {},
   "outputs": [],
   "source": [
    "collision['population'] = collision['population'].apply(float2int2str)"
   ]
  },
  {
   "cell_type": "code",
   "execution_count": 32,
   "metadata": {},
   "outputs": [],
   "source": [
    "collision['ramp_intersection'] = collision['ramp_intersection'].apply(float2int2str)"
   ]
  },
  {
   "cell_type": "code",
   "execution_count": 33,
   "metadata": {},
   "outputs": [],
   "source": [
    "collision['tow_away'] = collision['tow_away'].astype('Int64')"
   ]
  },
  {
   "cell_type": "code",
   "execution_count": 34,
   "metadata": {
    "scrolled": true
   },
   "outputs": [
    {
     "name": "stdout",
     "output_type": "stream",
     "text": [
      "0\n"
     ]
    }
   ],
   "source": [
    "print(collision['collision_severity'].isnull().sum())"
   ]
  },
  {
   "cell_type": "markdown",
   "metadata": {},
   "source": [
    "# CREATE SUB ENTITIES OF COLLISION !!!!!"
   ]
  },
  {
   "cell_type": "markdown",
   "metadata": {},
   "source": [
    "## Location\n",
    "\n",
    "We have to read `county_city_location` and `population` entries from `collision`"
   ]
  },
  {
   "cell_type": "code",
   "execution_count": 35,
   "metadata": {
    "scrolled": true
   },
   "outputs": [],
   "source": [
    "location = pd.DataFrame()\n",
    "location['county_city_location'] = collision['county_city_location']\n",
    "location['population'] = collision['population']\n",
    "location = location.drop_duplicates()"
   ]
  },
  {
   "cell_type": "code",
   "execution_count": 36,
   "metadata": {},
   "outputs": [],
   "source": [
    "location.to_csv(r'../location.csv', index = False)"
   ]
  },
  {
   "cell_type": "markdown",
   "metadata": {},
   "source": [
    "## Road\n",
    "We have to read `road_surface`, `lighting`, `location_type`, `ramp_intersection` entries from `collision`. We'll also generate a primary key `road_id`."
   ]
  },
  {
   "cell_type": "code",
   "execution_count": 37,
   "metadata": {},
   "outputs": [],
   "source": [
    "road = pd.DataFrame()\n",
    "road['road_surface'] = collision['road_surface']\n",
    "road['lighting'] = collision['lighting']\n",
    "road['location_type'] = collision['location_type']\n",
    "road['ramp_intersection'] = collision['ramp_intersection']\n",
    "\n",
    "road = road.drop_duplicates()\n",
    "\n",
    "road['road_id'] = range(0,len(road))"
   ]
  },
  {
   "cell_type": "code",
   "execution_count": 38,
   "metadata": {},
   "outputs": [],
   "source": [
    "road.to_csv(r'../road.csv', index = False)"
   ]
  },
  {
   "cell_type": "markdown",
   "metadata": {},
   "source": [
    "## PCF\n",
    "We have to read `pcf_violation`, `pcf_violation_category`, `pcf_violation_subsection` in `collisions`. We'll also generate a primary key `pcf_id`."
   ]
  },
  {
   "cell_type": "code",
   "execution_count": 39,
   "metadata": {},
   "outputs": [],
   "source": [
    "pcf = pd.DataFrame()\n",
    "pcf['pcf_violation'] = collision['pcf_violation']\n",
    "pcf['pcf_violation_category'] = collision['pcf_violation_category']\n",
    "pcf['pcf_violation_subsection'] = collision['pcf_violation_subsection']\n",
    "pcf['primary_collision_factor'] = collision['primary_collision_factor']\n",
    "\n",
    "\n",
    "pcf = pcf.drop_duplicates()\n",
    "\n",
    "pcf['pcf_id'] = range(0,len(pcf))"
   ]
  },
  {
   "cell_type": "code",
   "execution_count": 40,
   "metadata": {},
   "outputs": [],
   "source": [
    "pcf.to_csv(r'../pcf.csv', index = False)"
   ]
  },
  {
   "cell_type": "markdown",
   "metadata": {},
   "source": [
    "# CREATE MANY TO ONE RELATIONS FOR COLLISION !!"
   ]
  },
  {
   "cell_type": "markdown",
   "metadata": {},
   "source": [
    "## Weather and road_condition"
   ]
  },
  {
   "cell_type": "code",
   "execution_count": 41,
   "metadata": {},
   "outputs": [],
   "source": [
    "weather_1 = collision[['case_id','weather_1']].dropna()\n",
    "weather_2 = collision[['case_id','weather_2']].dropna()\n",
    "\n",
    "weather_1.rename(columns = {'weather_1':'weather'}, inplace = True)\n",
    "weather_2.rename(columns = {'weather_2':'weather'}, inplace = True)   "
   ]
  },
  {
   "cell_type": "code",
   "execution_count": 42,
   "metadata": {},
   "outputs": [],
   "source": [
    "final_weather = pd.concat([weather_1, weather_2], ignore_index=True)"
   ]
  },
  {
   "cell_type": "code",
   "execution_count": 43,
   "metadata": {},
   "outputs": [
    {
     "name": "stdout",
     "output_type": "stream",
     "text": [
      "0000001 9870011231152508671\n",
      "object\n"
     ]
    }
   ],
   "source": [
    "print(final_weather['case_id'].min(),final_weather['case_id'].max())\n",
    "print(final_weather['case_id'].dtype)"
   ]
  },
  {
   "cell_type": "code",
   "execution_count": 44,
   "metadata": {},
   "outputs": [],
   "source": [
    "road_condition_1 = collision[['case_id','road_condition_1']].dropna()\n",
    "road_condition_2 = collision[['case_id','road_condition_2']].dropna()\n",
    "\n",
    "road_condition_1.rename(columns = {'road_condition_1':'road_condition'}, inplace = True)\n",
    "road_condition_2.rename(columns = {'road_condition_2':'road_condition'}, inplace = True)   "
   ]
  },
  {
   "cell_type": "code",
   "execution_count": 45,
   "metadata": {},
   "outputs": [],
   "source": [
    "final_road_condition = pd.concat([road_condition_1, road_condition_2], ignore_index=True)"
   ]
  },
  {
   "cell_type": "code",
   "execution_count": 46,
   "metadata": {},
   "outputs": [],
   "source": [
    "final_weather.to_csv(r'../collision_in_weather.csv',index=False)\n",
    "final_road_condition.to_csv(r'../collision_in_road_condition.csv',index=False)"
   ]
  },
  {
   "cell_type": "markdown",
   "metadata": {},
   "source": [
    "# DROPPING COLUMnS FOR COLLISION !!!"
   ]
  },
  {
   "cell_type": "code",
   "execution_count": 47,
   "metadata": {},
   "outputs": [],
   "source": [
    "collision.drop(['population'], axis = 1,inplace=True)"
   ]
  },
  {
   "cell_type": "markdown",
   "metadata": {},
   "source": [
    "## Put road in baby"
   ]
  },
  {
   "cell_type": "code",
   "execution_count": 48,
   "metadata": {},
   "outputs": [],
   "source": [
    "collision = collision.merge(road, how='left', on=['road_surface','lighting','location_type','ramp_intersection'])"
   ]
  },
  {
   "cell_type": "code",
   "execution_count": 49,
   "metadata": {},
   "outputs": [],
   "source": [
    "collision.drop(['road_surface','lighting','location_type','ramp_intersection'], axis = 1,inplace=True)"
   ]
  },
  {
   "cell_type": "markdown",
   "metadata": {},
   "source": [
    "## Put pcf in baby"
   ]
  },
  {
   "cell_type": "code",
   "execution_count": 50,
   "metadata": {},
   "outputs": [],
   "source": [
    "collision = collision.merge(pcf, how='left', on=['primary_collision_factor','pcf_violation','pcf_violation_category','pcf_violation_subsection'])"
   ]
  },
  {
   "cell_type": "code",
   "execution_count": 51,
   "metadata": {},
   "outputs": [],
   "source": [
    "collision.drop(['primary_collision_factor','pcf_violation','pcf_violation_category','pcf_violation_subsection'], axis = 1,inplace=True)"
   ]
  },
  {
   "cell_type": "code",
   "execution_count": 52,
   "metadata": {},
   "outputs": [],
   "source": [
    "collision.drop(['road_condition_1' ,'road_condition_2','weather_1' ,'weather_2'], axis = 1,inplace=True)"
   ]
  },
  {
   "cell_type": "markdown",
   "metadata": {},
   "source": [
    "## Merge date and time"
   ]
  },
  {
   "cell_type": "code",
   "execution_count": 53,
   "metadata": {},
   "outputs": [],
   "source": [
    "collision['date'] = collision['collision_date']+' '+ collision['collision_time']"
   ]
  },
  {
   "cell_type": "code",
   "execution_count": 54,
   "metadata": {},
   "outputs": [],
   "source": [
    "collision.drop(['collision_date','collision_time'], axis = 1,inplace=True)"
   ]
  },
  {
   "cell_type": "code",
   "execution_count": 55,
   "metadata": {},
   "outputs": [],
   "source": [
    "collision.rename({'date':'collision_date'},inplace=True)"
   ]
  },
  {
   "cell_type": "code",
   "execution_count": 56,
   "metadata": {},
   "outputs": [],
   "source": [
    "collision.to_csv(r'../collision.csv', index = False)"
   ]
  },
  {
   "cell_type": "markdown",
   "metadata": {},
   "source": [
    "# CLEANING PARTY !!!"
   ]
  },
  {
   "cell_type": "code",
   "execution_count": 57,
   "metadata": {},
   "outputs": [],
   "source": [
    "party = pd.read_csv(\"../parties2018.csv\", dtype={\"case_id\": str,\"hazardous_materials\":str,\"party_safety_equipment_1\":str, \"party_safety_equipment_2\":str, \"school_bus_related\":str})"
   ]
  },
  {
   "cell_type": "markdown",
   "metadata": {},
   "source": [
    "## movement_preceding_collision"
   ]
  },
  {
   "cell_type": "code",
   "execution_count": 58,
   "metadata": {
    "scrolled": true
   },
   "outputs": [
    {
     "name": "stdout",
     "output_type": "stream",
     "text": [
      "{'stopped': 'A', 'proceeding straight': 'B', 'ran off road': 'C', 'making right turn': 'D', 'making left turn': 'E', 'making u-turn': 'F', 'backing': 'G', 'slowing/stopping': 'H', 'passing other vehicle': 'I', 'changing lanes': 'J', 'parking maneuver': 'K', 'entering traffic': 'L', 'other unsafe turning': 'M', 'crossed into opposing lane': 'N', 'parked': 'O', 'merging': 'P', 'traveling wrong way': 'Q', 'other': 'R'}\n"
     ]
    }
   ],
   "source": [
    "trad1 = \"A - Stopped\\nB - Proceeding Straight\\nC - Ran Off Road\\nD - Making Right Turn\\nE - Making Left Turn\\nF - Making U-Turn\\nG - Backing\\nH - Slowing/Stopping\\nI - Passing Other Vehicle\\nJ - Changing Lanes\\nK - Parking Maneuver\\nL - Entering Traffic\\nM - Other Unsafe Turning\\nN - Crossed Into Opposing Lane\"\n",
    "trad2=\"\\nO - Parked\\nP - Merging\\nQ - Traveling Wrong Way\\nR - Other\"\n",
    "trad = trad1+trad2\n",
    "movement_preceding_collision_trad = extract_set(trad)\n",
    "print(movement_preceding_collision_trad)"
   ]
  },
  {
   "cell_type": "code",
   "execution_count": 59,
   "metadata": {},
   "outputs": [],
   "source": [
    "party['movement_preceding_collision'] = party['movement_preceding_collision'].apply(lambda s : set_translate(movement_preceding_collision_trad,s))"
   ]
  },
  {
   "cell_type": "markdown",
   "metadata": {},
   "source": [
    "## other_associated_factor_1"
   ]
  },
  {
   "cell_type": "code",
   "execution_count": 60,
   "metadata": {},
   "outputs": [],
   "source": [
    "party.rename(columns={'other_associate_factor_1':'other_associated_factor_1',\n",
    "                   'other_associate_factor_2':'other_associated_factor_2'},inplace=True)"
   ]
  },
  {
   "cell_type": "markdown",
   "metadata": {},
   "source": [
    "## party_type"
   ]
  },
  {
   "cell_type": "code",
   "execution_count": 61,
   "metadata": {},
   "outputs": [],
   "source": [
    "party_type_trad=extract_set(\"1 - driver\\n2 - Pedestrian\\n3 - Parked Vehicle\\n4 - Bicyclist\\n5 - Other\")"
   ]
  },
  {
   "cell_type": "code",
   "execution_count": 62,
   "metadata": {},
   "outputs": [],
   "source": [
    "party['party_type'] = party['party_type'].apply(lambda s : set_translate(party_type_trad,s))"
   ]
  },
  {
   "cell_type": "markdown",
   "metadata": {},
   "source": [
    "## statewide_vehicle_type"
   ]
  },
  {
   "cell_type": "code",
   "execution_count": 63,
   "metadata": {},
   "outputs": [],
   "source": [
    "trad1=\"A - Passenger Car\\nB - Passenger Car with Trailer\\nC - Motorcycle/Scooter\\nD - Pickup or Panel Truck\\nE - Pickup or Panel Truck with Trailer\"\n",
    "trad2=\"\\nF - Truck or Truck Tractor\\nG - Truck or Truck Tractor with Trailer\\nH - Schoolbus\\nI - Other Bus\\nJ - Emergency Vehicle\\nK - Highway Construction Equipment\\nL - Bicycle\\nM - Other Vehicle\\nN - Pedestrian\\nO - Moped\"\n",
    "trad=trad1+trad2\n",
    "statewide_vehicle_type_trad=extract_set(trad)"
   ]
  },
  {
   "cell_type": "code",
   "execution_count": 64,
   "metadata": {},
   "outputs": [
    {
     "name": "stdout",
     "output_type": "stream",
     "text": [
      "{'passenger car': 'A', 'passenger car with trailer': 'B', 'motorcycle/scooter': 'C', 'pickup or panel truck': 'D', 'pickup or panel truck with trailer': 'E', 'truck or truck tractor': 'F', 'truck or truck tractor with trailer': 'G', 'schoolbus': 'H', 'other bus': 'I', 'emergency vehicle': 'J', 'highway construction equipment': 'K', 'bicycle': 'L', 'other vehicle': 'M', 'pedestrian': 'N', 'moped': 'O'}\n"
     ]
    }
   ],
   "source": [
    "print(statewide_vehicle_type_trad)"
   ]
  },
  {
   "cell_type": "code",
   "execution_count": 65,
   "metadata": {},
   "outputs": [],
   "source": [
    "party['statewide_vehicle_type'] = party['statewide_vehicle_type'].apply(lambda s : set_translate(statewide_vehicle_type_trad,s))"
   ]
  },
  {
   "cell_type": "markdown",
   "metadata": {},
   "source": [
    "## Changing Types"
   ]
  },
  {
   "cell_type": "code",
   "execution_count": 66,
   "metadata": {},
   "outputs": [],
   "source": [
    "party['party_age'] = party['party_age'].astype('Int64')"
   ]
  },
  {
   "cell_type": "code",
   "execution_count": 67,
   "metadata": {},
   "outputs": [],
   "source": [
    "party['vehicle_year'] = party['vehicle_year'].astype('Int64')"
   ]
  },
  {
   "cell_type": "code",
   "execution_count": 68,
   "metadata": {},
   "outputs": [],
   "source": [
    "def translate(s):\n",
    "    dic={'1':'B','2':'C','3':'D'}\n",
    "    if s in dic.keys():\n",
    "        return dic[s]\n",
    "    else:\n",
    "        return s"
   ]
  },
  {
   "cell_type": "code",
   "execution_count": 69,
   "metadata": {},
   "outputs": [],
   "source": [
    "party['cellphone_use'] = party['cellphone_use'].apply(translate)"
   ]
  },
  {
   "cell_type": "code",
   "execution_count": 70,
   "metadata": {},
   "outputs": [],
   "source": [
    "victim_sex_trad = {'male':'M','female':'F'}\n",
    "party['party_sex'] = party['party_sex'].apply(lambda s : set_translate(victim_sex_trad,s))"
   ]
  },
  {
   "cell_type": "markdown",
   "metadata": {},
   "source": [
    "# CREATE SUB ENTITIES OF PARTY !!!!!"
   ]
  },
  {
   "cell_type": "markdown",
   "metadata": {},
   "source": [
    "## Vehicule\n",
    "We have to read `statewide_vehicule_type`, `vehicule_make`, `vehicule_year` in `party`. We'll also generate a primary key `vehicule_id`."
   ]
  },
  {
   "cell_type": "code",
   "execution_count": 71,
   "metadata": {},
   "outputs": [],
   "source": [
    "vehicle = pd.DataFrame()\n",
    "vehicle['statewide_vehicle_type'] = party['statewide_vehicle_type']\n",
    "vehicle['vehicle_make'] = party['vehicle_make']\n",
    "vehicle['vehicle_year'] = party['vehicle_year']\n",
    "\n",
    "vehicle = vehicle.drop_duplicates()\n",
    "\n",
    "vehicle['vehicle_id'] = range(0,len(vehicle))\n",
    "\n",
    "vehicle['vehicle_year'] = vehicle['vehicle_year'].astype('Int64')"
   ]
  },
  {
   "cell_type": "code",
   "execution_count": 72,
   "metadata": {},
   "outputs": [],
   "source": [
    "vehicle.to_csv(r'../vehicle.csv', index = False)\n"
   ]
  },
  {
   "cell_type": "markdown",
   "metadata": {},
   "source": [
    "# CREATE MANY TO ONE RELATIONS FOR PARTY !!"
   ]
  },
  {
   "cell_type": "markdown",
   "metadata": {},
   "source": [
    "## Safety_equipment"
   ]
  },
  {
   "cell_type": "code",
   "execution_count": 73,
   "metadata": {},
   "outputs": [],
   "source": [
    "party_safety_equipment_1 = party[['id','party_safety_equipment_1']].dropna()\n",
    "party_safety_equipment_2 = party[['id','party_safety_equipment_2']].dropna()\n",
    "\n",
    "party_safety_equipment_1.rename(columns = {'party_safety_equipment_1':'safety_equipment'}, inplace = True)\n",
    "party_safety_equipment_2.rename(columns = {'party_safety_equipment_2':'safety_equipment'}, inplace = True)  "
   ]
  },
  {
   "cell_type": "code",
   "execution_count": 74,
   "metadata": {},
   "outputs": [],
   "source": [
    "final_party_safety_equipment = pd.concat([party_safety_equipment_1, party_safety_equipment_2], ignore_index=True)"
   ]
  },
  {
   "cell_type": "code",
   "execution_count": 75,
   "metadata": {},
   "outputs": [],
   "source": [
    "final_party_safety_equipment.to_csv(r'../party_equipped_with.csv',index=False)"
   ]
  },
  {
   "cell_type": "markdown",
   "metadata": {},
   "source": [
    "## Other_associate_factor"
   ]
  },
  {
   "cell_type": "code",
   "execution_count": 76,
   "metadata": {},
   "outputs": [],
   "source": [
    "other_associated_factor_1 = party[['id','other_associated_factor_1']].dropna()\n",
    "other_associated_factor_2 = party[['id','other_associated_factor_2']].dropna()\n",
    "\n",
    "other_associated_factor_1.rename(columns = {'other_associated_factor_1':'other_associated_factor'}, inplace = True)\n",
    "other_associated_factor_2.rename(columns = {'other_associated_factor_2':'other_associated_factor'}, inplace = True)  "
   ]
  },
  {
   "cell_type": "code",
   "execution_count": 77,
   "metadata": {},
   "outputs": [],
   "source": [
    "final_other_associated_factor = pd.concat([other_associated_factor_1, other_associated_factor_2], ignore_index=True)"
   ]
  },
  {
   "cell_type": "code",
   "execution_count": 78,
   "metadata": {},
   "outputs": [],
   "source": [
    "final_other_associated_factor.to_csv(r'../party_other_associated_factor.csv',index=False)"
   ]
  },
  {
   "cell_type": "markdown",
   "metadata": {},
   "source": [
    "# DROPPING COLUMnS FOR PARTY !!!"
   ]
  },
  {
   "cell_type": "markdown",
   "metadata": {},
   "source": [
    "## Put vehicle in baby"
   ]
  },
  {
   "cell_type": "code",
   "execution_count": 79,
   "metadata": {},
   "outputs": [],
   "source": [
    "party = party.merge(vehicle, how='left', on=['statewide_vehicle_type', 'vehicle_make' , 'vehicle_year'])"
   ]
  },
  {
   "cell_type": "code",
   "execution_count": 80,
   "metadata": {},
   "outputs": [],
   "source": [
    "party.drop(['statewide_vehicle_type', 'vehicle_make' , 'vehicle_year'], axis = 1,inplace=True)"
   ]
  },
  {
   "cell_type": "markdown",
   "metadata": {},
   "source": [
    "## Drop safety_equipment"
   ]
  },
  {
   "cell_type": "code",
   "execution_count": 81,
   "metadata": {},
   "outputs": [],
   "source": [
    "party.drop(['party_safety_equipment_1', 'party_safety_equipment_2' , 'other_associated_factor_1', 'other_associated_factor_2'], axis = 1,inplace=True)"
   ]
  },
  {
   "cell_type": "code",
   "execution_count": 82,
   "metadata": {},
   "outputs": [],
   "source": [
    "party.to_csv(r'../party.csv', index = False)"
   ]
  },
  {
   "cell_type": "markdown",
   "metadata": {},
   "source": [
    "# CLEANING VICTIMS !!!"
   ]
  },
  {
   "cell_type": "code",
   "execution_count": 83,
   "metadata": {},
   "outputs": [],
   "source": [
    "victim = pd.read_csv(\"../victims2018.csv\", dtype={\"case_id\": str,\"victim_safety_equipment_1\":str,\"victim_safety_equipment_2\":str})"
   ]
  },
  {
   "cell_type": "markdown",
   "metadata": {},
   "source": [
    "## victim_degree_of_injury"
   ]
  },
  {
   "cell_type": "code",
   "execution_count": 84,
   "metadata": {},
   "outputs": [],
   "source": [
    "\n",
    "victim_degree_of_injury_trad = {'no injury':'0','killed':'1','severe injury':'2','other visible injury':'3',\n",
    "                               'complaint of pain':'4',}"
   ]
  },
  {
   "cell_type": "code",
   "execution_count": 85,
   "metadata": {},
   "outputs": [],
   "source": [
    "victim['victim_degree_of_injury'] = victim['victim_degree_of_injury'].apply(lambda s : set_translate(victim_degree_of_injury_trad,s))"
   ]
  },
  {
   "cell_type": "markdown",
   "metadata": {},
   "source": [
    "## victim_sex"
   ]
  },
  {
   "cell_type": "code",
   "execution_count": 86,
   "metadata": {},
   "outputs": [],
   "source": [
    "victim_sex_trad = {'male':'M','female':'F'}\n",
    "victim['victim_sex'] = victim['victim_sex'].apply(lambda s : set_translate(victim_sex_trad,s))"
   ]
  },
  {
   "cell_type": "markdown",
   "metadata": {},
   "source": [
    "## Changing types"
   ]
  },
  {
   "cell_type": "code",
   "execution_count": 87,
   "metadata": {
    "scrolled": true
   },
   "outputs": [
    {
     "name": "stdout",
     "output_type": "stream",
     "text": [
      "case_id                       object\n",
      "id                             int64\n",
      "party_number                   int64\n",
      "victim_age                   float64\n",
      "victim_degree_of_injury       object\n",
      "victim_ejected               float64\n",
      "victim_role                    int64\n",
      "victim_safety_equipment_1     object\n",
      "victim_safety_equipment_2     object\n",
      "victim_seating_position      float64\n",
      "victim_sex                    object\n",
      "dtype: object\n"
     ]
    }
   ],
   "source": [
    "print(victim.dtypes)"
   ]
  },
  {
   "cell_type": "code",
   "execution_count": 88,
   "metadata": {},
   "outputs": [],
   "source": [
    "def float2int2str(x):\n",
    "    if x != x:\n",
    "        return x\n",
    "    else:\n",
    "        return str(int(x))"
   ]
  },
  {
   "cell_type": "code",
   "execution_count": 89,
   "metadata": {},
   "outputs": [],
   "source": [
    "victim['victim_age'] = victim['victim_age'].astype('Int64')"
   ]
  },
  {
   "cell_type": "code",
   "execution_count": 90,
   "metadata": {},
   "outputs": [],
   "source": [
    "victim['victim_ejected'] = victim['victim_ejected'].apply(float2int2str)"
   ]
  },
  {
   "cell_type": "code",
   "execution_count": 91,
   "metadata": {},
   "outputs": [],
   "source": [
    "victim['victim_role'] = victim['victim_role'].apply(float2int2str)"
   ]
  },
  {
   "cell_type": "code",
   "execution_count": 92,
   "metadata": {},
   "outputs": [],
   "source": [
    "victim['victim_seating_position'] = victim['victim_seating_position'].apply(float2int2str)"
   ]
  },
  {
   "cell_type": "markdown",
   "metadata": {},
   "source": [
    "# CREATE MANY TO ONE RELATIONS FOR VICTIM !!"
   ]
  },
  {
   "cell_type": "code",
   "execution_count": 93,
   "metadata": {},
   "outputs": [],
   "source": [
    "victim_safety_equipment_1 = victim[['id','victim_safety_equipment_1']].dropna()\n",
    "victim_safety_equipment_2 = victim[['id','victim_safety_equipment_2']].dropna()\n",
    "\n",
    "victim_safety_equipment_1.rename(columns = {'victim_safety_equipment_1':'safety_equipment'}, inplace = True)\n",
    "victim_safety_equipment_2.rename(columns = {'victim_safety_equipment_2':'safety_equipment'}, inplace = True)  "
   ]
  },
  {
   "cell_type": "code",
   "execution_count": 94,
   "metadata": {},
   "outputs": [],
   "source": [
    "final_victim_safety_equipment = pd.concat([victim_safety_equipment_1, victim_safety_equipment_2], ignore_index=True)"
   ]
  },
  {
   "cell_type": "code",
   "execution_count": 95,
   "metadata": {},
   "outputs": [],
   "source": [
    "final_victim_safety_equipment.to_csv(r'../victim_equipped_with.csv',index=False)"
   ]
  },
  {
   "cell_type": "markdown",
   "metadata": {},
   "source": [
    "# DROPPING COLUMnS FOR VICTIM !!!"
   ]
  },
  {
   "cell_type": "code",
   "execution_count": 96,
   "metadata": {},
   "outputs": [],
   "source": [
    "victim.drop(['victim_safety_equipment_1', 'victim_safety_equipment_2'], axis = 1,inplace=True)"
   ]
  },
  {
   "cell_type": "markdown",
   "metadata": {},
   "source": [
    "# PUTTING PARTY_ID IN VICTIM"
   ]
  },
  {
   "cell_type": "code",
   "execution_count": 97,
   "metadata": {},
   "outputs": [],
   "source": [
    "victim.rename(columns = {'id':'victim_id'}, inplace = True)\n",
    "party.rename(columns = {'id':'party_id'}, inplace = True)"
   ]
  },
  {
   "cell_type": "code",
   "execution_count": null,
   "metadata": {},
   "outputs": [],
   "source": [
    "victim = victim.merge(party, how='inner', on= ['case_id','party_number'])"
   ]
  },
  {
   "cell_type": "code",
   "execution_count": null,
   "metadata": {},
   "outputs": [],
   "source": [
    "victim.drop(['case_id','party_number','at_fault','cellphone_use','financial_responsibility','hazardous_materials',\n",
    "            'movement_preceding_collision','party_age','party_drug_physical','party_sex','party_sobriety','party_type',\n",
    "            'school_bus_related','vehicle_id'], axis = 1,inplace=True)"
   ]
  },
  {
   "cell_type": "code",
   "execution_count": null,
   "metadata": {},
   "outputs": [],
   "source": [
    "victim.to_csv(r'../victim.csv', index = False)"
   ]
  }
 ],
 "metadata": {
  "kernelspec": {
   "display_name": "Python 3",
   "language": "python",
   "name": "python3"
  },
  "language_info": {
   "codemirror_mode": {
    "name": "ipython",
    "version": 3
   },
   "file_extension": ".py",
   "mimetype": "text/x-python",
   "name": "python",
   "nbconvert_exporter": "python",
   "pygments_lexer": "ipython3",
   "version": "3.8.5"
  }
 },
 "nbformat": 4,
 "nbformat_minor": 4
}
