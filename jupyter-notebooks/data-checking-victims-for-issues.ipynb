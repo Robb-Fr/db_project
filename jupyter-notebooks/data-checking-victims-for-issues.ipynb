{
 "cells": [
  {
   "cell_type": "code",
   "execution_count": 1,
   "metadata": {},
   "outputs": [],
   "source": [
    "import pandas as pd\n",
    "import numpy as np\n",
    "import matplotlib as plt\n",
    "%matplotlib inline"
   ]
  },
  {
   "cell_type": "code",
   "execution_count": 2,
   "metadata": {
    "scrolled": true
   },
   "outputs": [
    {
     "name": "stderr",
     "output_type": "stream",
     "text": [
      "C:\\Users\\Harold\\anaconda3\\lib\\site-packages\\IPython\\core\\interactiveshell.py:3146: DtypeWarning: Columns (8) have mixed types.Specify dtype option on import or set low_memory=False.\n",
      "  has_raised = await self.run_ast_nodes(code_ast.body, cell_name,\n",
      "C:\\Users\\Harold\\anaconda3\\lib\\site-packages\\IPython\\core\\interactiveshell.py:3146: DtypeWarning: Columns (9) have mixed types.Specify dtype option on import or set low_memory=False.\n",
      "  has_raised = await self.run_ast_nodes(code_ast.body, cell_name,\n",
      "C:\\Users\\Harold\\anaconda3\\lib\\site-packages\\IPython\\core\\interactiveshell.py:3146: DtypeWarning: Columns (4,13,17) have mixed types.Specify dtype option on import or set low_memory=False.\n",
      "  has_raised = await self.run_ast_nodes(code_ast.body, cell_name,\n"
     ]
    }
   ],
   "source": [
    "victims = pd.read_csv(\"../victims2018.csv\")\n",
    "col =  pd.read_csv(\"../collisions2018.csv\")\n",
    "parties = pd.read_csv(\"../parties2018.csv\")"
   ]
  },
  {
   "cell_type": "code",
   "execution_count": 5,
   "metadata": {},
   "outputs": [],
   "source": [
    "df = victims.copy()"
   ]
  },
  {
   "cell_type": "markdown",
   "metadata": {},
   "source": [
    "## victim_age"
   ]
  },
  {
   "cell_type": "code",
   "execution_count": 10,
   "metadata": {},
   "outputs": [
    {
     "name": "stdout",
     "output_type": "stream",
     "text": [
      "0.03478642119095644\n"
     ]
    }
   ],
   "source": [
    "print(df['victim_age'].isnull().sum()/len(df))"
   ]
  },
  {
   "cell_type": "code",
   "execution_count": 11,
   "metadata": {},
   "outputs": [
    {
     "name": "stdout",
     "output_type": "stream",
     "text": [
      "29.466559307405884\n"
     ]
    }
   ],
   "source": [
    "print(df['victim_age'].mean())"
   ]
  },
  {
   "cell_type": "code",
   "execution_count": 12,
   "metadata": {},
   "outputs": [
    {
     "name": "stdout",
     "output_type": "stream",
     "text": [
      "25.0\n"
     ]
    }
   ],
   "source": [
    "print(df['victim_age'].median())"
   ]
  },
  {
   "cell_type": "markdown",
   "metadata": {},
   "source": [
    "## something"
   ]
  },
  {
   "cell_type": "code",
   "execution_count": 18,
   "metadata": {},
   "outputs": [
    {
     "name": "stdout",
     "output_type": "stream",
     "text": [
      "6      1.0\n",
      "17     1.0\n",
      "28     3.0\n",
      "29     1.0\n",
      "35     3.0\n",
      "42     3.0\n",
      "44     1.0\n",
      "59     1.0\n",
      "73     NaN\n",
      "95     3.0\n",
      "106    3.0\n",
      "109    3.0\n",
      "110    3.0\n",
      "111    3.0\n",
      "112    3.0\n",
      "113    3.0\n",
      "114    3.0\n",
      "115    3.0\n",
      "116    1.0\n",
      "119    3.0\n",
      "121    3.0\n",
      "122    3.0\n",
      "124    3.0\n",
      "125    3.0\n",
      "143    3.0\n",
      "144    3.0\n",
      "153    3.0\n",
      "154    3.0\n",
      "165    3.0\n",
      "180    NaN\n",
      "264    3.0\n",
      "282    1.0\n",
      "293    1.0\n",
      "310    NaN\n",
      "368    1.0\n",
      "372    NaN\n",
      "412    1.0\n",
      "430    NaN\n",
      "431    NaN\n",
      "432    NaN\n",
      "433    NaN\n",
      "437    NaN\n",
      "441    3.0\n",
      "444    1.0\n",
      "450    3.0\n",
      "457    NaN\n",
      "468    NaN\n",
      "471    NaN\n",
      "472    NaN\n",
      "475    NaN\n",
      "Name: victim_ejected, dtype: float64\n"
     ]
    }
   ],
   "source": [
    "print(df[df['victim_ejected'] != 0.0]['victim_ejected'].head(50))"
   ]
  },
  {
   "cell_type": "code",
   "execution_count": 23,
   "metadata": {},
   "outputs": [
    {
     "name": "stdout",
     "output_type": "stream",
     "text": [
      "4082635    1.0\n",
      "4082636    3.0\n",
      "4082637    1.0\n",
      "4082638    3.0\n",
      "4082639    1.0\n",
      "4082640    1.0\n",
      "4082641    3.0\n",
      "4082642    1.0\n",
      "4082643    3.0\n",
      "4082644    1.0\n",
      "4082645    1.0\n",
      "4082646    1.0\n",
      "4082647    3.0\n",
      "4082648    1.0\n",
      "4082649    3.0\n",
      "4082650    3.0\n",
      "4082651    1.0\n",
      "4082652    1.0\n",
      "4082653    1.0\n",
      "4082654    3.0\n",
      "4082655    8.0\n",
      "4082656    8.0\n",
      "4082657    3.0\n",
      "4082658    6.0\n",
      "4082659    4.0\n",
      "4082660    3.0\n",
      "4082661    3.0\n",
      "4082662    6.0\n",
      "4082663    5.0\n",
      "4082664    4.0\n",
      "4082665    3.0\n",
      "4082666    6.0\n",
      "4082667    1.0\n",
      "4082668    3.0\n",
      "4082669    1.0\n",
      "4082670    1.0\n",
      "4082671    1.0\n",
      "4082672    3.0\n",
      "4082673    3.0\n",
      "4082674    4.0\n",
      "4082675    1.0\n",
      "4082676    1.0\n",
      "4082677    1.0\n",
      "4082678    5.0\n",
      "4082679    4.0\n",
      "4082680    1.0\n",
      "4082681    3.0\n",
      "4082682    3.0\n",
      "4082683    1.0\n",
      "4082684    6.0\n",
      "Name: victim_seating_position, dtype: float64\n"
     ]
    }
   ],
   "source": [
    "print(df['victim_seating_position'].tail(50))"
   ]
  }
 ],
 "metadata": {
  "kernelspec": {
   "display_name": "Python 3",
   "language": "python",
   "name": "python3"
  },
  "language_info": {
   "codemirror_mode": {
    "name": "ipython",
    "version": 3
   },
   "file_extension": ".py",
   "mimetype": "text/x-python",
   "name": "python",
   "nbconvert_exporter": "python",
   "pygments_lexer": "ipython3",
   "version": "3.8.5"
  }
 },
 "nbformat": 4,
 "nbformat_minor": 4
}
