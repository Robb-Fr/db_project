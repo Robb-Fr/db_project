{
 "cells": [
  {
   "cell_type": "markdown",
   "metadata": {},
   "source": [
    "# Project Data Cleaning\n",
    "We will first try to read partially and analyse the data from the project files."
   ]
  },
  {
   "cell_type": "code",
   "execution_count": 16,
   "metadata": {},
   "outputs": [],
   "source": [
    "import pandas as pd\n",
    "import numpy as np\n",
    "import matplotlib as plt\n",
    "%matplotlib inline"
   ]
  },
  {
   "cell_type": "markdown",
   "metadata": {},
   "source": [
    "## Data visualization\n",
    "We first visualize some lines of the CSV data file."
   ]
  },
  {
   "cell_type": "code",
   "execution_count": 17,
   "metadata": {},
   "outputs": [],
   "source": [
    "# Read the 7 first values of the collisions2018 file\n",
    "df = pd.read_csv(\"collisions2018.csv\").head(7)"
   ]
  },
  {
   "cell_type": "code",
   "execution_count": 18,
   "metadata": {},
   "outputs": [
    {
     "name": "stdout",
     "output_type": "stream",
     "text": [
      "   case_id collision_date    collision_severity collision_time  \\\n",
      "0      1.0     2002-01-18  property damage only       15:30:00   \n",
      "1      2.0     2002-02-13  property damage only       19:30:00   \n",
      "2      3.0     2002-02-11  property damage only       15:30:00   \n",
      "3      4.0     2002-02-12  property damage only       07:45:00   \n",
      "4      5.0     2002-02-14         severe injury       11:35:00   \n",
      "5      6.0     2002-02-14  property damage only       17:40:00   \n",
      "6      7.0     2002-02-14  property damage only       17:55:00   \n",
      "\n",
      "   county_city_location      hit_and_run  jurisdiction  \\\n",
      "0                  1900  not hit and run        9575.0   \n",
      "1                  1500      misdemeanor        9420.0   \n",
      "2                  1502      misdemeanor        9420.0   \n",
      "3                  1500      misdemeanor        9420.0   \n",
      "4                  1500  not hit and run        9420.0   \n",
      "5                  1500  not hit and run        9420.0   \n",
      "6                  1500  not hit and run        9420.0   \n",
      "\n",
      "                  lighting location_type officer_id  ...  \\\n",
      "0                 daylight           NaN      16418  ...   \n",
      "1                      NaN           NaN      14360  ...   \n",
      "2                 daylight       highway      16117  ...   \n",
      "3                 daylight           NaN       6078  ...   \n",
      "4                 daylight           NaN      13851  ...   \n",
      "5             dusk or dawn           NaN      16153  ...   \n",
      "6  dark with street lights           NaN      14706  ...   \n",
      "\n",
      "   primary_collision_factor process_date ramp_intersection  road_condition_1  \\\n",
      "0    vehicle code violation   2002-06-14               NaN            normal   \n",
      "1    vehicle code violation   2002-03-29               NaN            normal   \n",
      "2    vehicle code violation   2003-07-15               NaN            normal   \n",
      "3    vehicle code violation   2002-05-22               NaN            normal   \n",
      "4    vehicle code violation   2003-07-28               NaN            normal   \n",
      "5    vehicle code violation   2002-03-29               NaN            normal   \n",
      "6    vehicle code violation   2002-03-29               NaN            normal   \n",
      "\n",
      "  road_condition_2 road_surface  tow_away type_of_collision weather_1  \\\n",
      "0              NaN          dry       1.0          rear end     clear   \n",
      "1              NaN          dry       0.0        hit object     clear   \n",
      "2              NaN          dry       0.0        hit object     clear   \n",
      "3              NaN          dry       0.0         sideswipe     clear   \n",
      "4              NaN          dry       1.0        overturned     clear   \n",
      "5              NaN          dry       0.0          rear end     clear   \n",
      "6              NaN          dry       0.0         sideswipe     clear   \n",
      "\n",
      "  weather_2  \n",
      "0       NaN  \n",
      "1       NaN  \n",
      "2       NaN  \n",
      "3       NaN  \n",
      "4       NaN  \n",
      "5       NaN  \n",
      "6       NaN  \n",
      "\n",
      "[7 rows x 24 columns]\n"
     ]
    }
   ],
   "source": [
    "print(df)"
   ]
  },
  {
   "cell_type": "markdown",
   "metadata": {},
   "source": [
    "## Transforming strings of collision_severity into the integer code given in the project description\n",
    "See page 12 of [handout file](DB-Project_2021.pdf)."
   ]
  },
  {
   "cell_type": "code",
   "execution_count": 23,
   "metadata": {},
   "outputs": [],
   "source": [
    "def collision_severity_translate(s):\n",
    "    dic = {'fatal':1, 'severe injury':2, 'other injury':3,\n",
    "           'pain':4, 'property damage only':0\n",
    "    }\n",
    "    if s in dic:\n",
    "        return dic[s]\n",
    "    else:\n",
    "        return numpy.nan"
   ]
  },
  {
   "cell_type": "code",
   "execution_count": 20,
   "metadata": {},
   "outputs": [],
   "source": [
    "df['collision_severity'] = df['collision_severity'].apply(lambda s : collision_severity_translate(s))"
   ]
  },
  {
   "cell_type": "code",
   "execution_count": 21,
   "metadata": {},
   "outputs": [
    {
     "name": "stdout",
     "output_type": "stream",
     "text": [
      "   case_id collision_date  collision_severity collision_time  \\\n",
      "0      1.0     2002-01-18                   5       15:30:00   \n",
      "1      2.0     2002-02-13                   5       19:30:00   \n",
      "2      3.0     2002-02-11                   5       15:30:00   \n",
      "3      4.0     2002-02-12                   5       07:45:00   \n",
      "4      5.0     2002-02-14                   2       11:35:00   \n",
      "5      6.0     2002-02-14                   5       17:40:00   \n",
      "6      7.0     2002-02-14                   5       17:55:00   \n",
      "\n",
      "   county_city_location      hit_and_run  jurisdiction  \\\n",
      "0                  1900  not hit and run        9575.0   \n",
      "1                  1500      misdemeanor        9420.0   \n",
      "2                  1502      misdemeanor        9420.0   \n",
      "3                  1500      misdemeanor        9420.0   \n",
      "4                  1500  not hit and run        9420.0   \n",
      "5                  1500  not hit and run        9420.0   \n",
      "6                  1500  not hit and run        9420.0   \n",
      "\n",
      "                  lighting location_type officer_id  ...  \\\n",
      "0                 daylight           NaN      16418  ...   \n",
      "1                      NaN           NaN      14360  ...   \n",
      "2                 daylight       highway      16117  ...   \n",
      "3                 daylight           NaN       6078  ...   \n",
      "4                 daylight           NaN      13851  ...   \n",
      "5             dusk or dawn           NaN      16153  ...   \n",
      "6  dark with street lights           NaN      14706  ...   \n",
      "\n",
      "   primary_collision_factor process_date ramp_intersection  road_condition_1  \\\n",
      "0    vehicle code violation   2002-06-14               NaN            normal   \n",
      "1    vehicle code violation   2002-03-29               NaN            normal   \n",
      "2    vehicle code violation   2003-07-15               NaN            normal   \n",
      "3    vehicle code violation   2002-05-22               NaN            normal   \n",
      "4    vehicle code violation   2003-07-28               NaN            normal   \n",
      "5    vehicle code violation   2002-03-29               NaN            normal   \n",
      "6    vehicle code violation   2002-03-29               NaN            normal   \n",
      "\n",
      "  road_condition_2 road_surface  tow_away type_of_collision weather_1  \\\n",
      "0              NaN          dry       1.0          rear end     clear   \n",
      "1              NaN          dry       0.0        hit object     clear   \n",
      "2              NaN          dry       0.0        hit object     clear   \n",
      "3              NaN          dry       0.0         sideswipe     clear   \n",
      "4              NaN          dry       1.0        overturned     clear   \n",
      "5              NaN          dry       0.0          rear end     clear   \n",
      "6              NaN          dry       0.0         sideswipe     clear   \n",
      "\n",
      "  weather_2  \n",
      "0       NaN  \n",
      "1       NaN  \n",
      "2       NaN  \n",
      "3       NaN  \n",
      "4       NaN  \n",
      "5       NaN  \n",
      "6       NaN  \n",
      "\n",
      "[7 rows x 24 columns]\n"
     ]
    }
   ],
   "source": [
    "print(df)"
   ]
  }
 ],
 "metadata": {
  "kernelspec": {
   "display_name": "Python 3",
   "language": "python",
   "name": "python3"
  },
  "language_info": {
   "codemirror_mode": {
    "name": "ipython",
    "version": 3
   },
   "file_extension": ".py",
   "mimetype": "text/x-python",
   "name": "python",
   "nbconvert_exporter": "python",
   "pygments_lexer": "ipython3",
   "version": "3.9.2"
  }
 },
 "nbformat": 4,
 "nbformat_minor": 4
}
