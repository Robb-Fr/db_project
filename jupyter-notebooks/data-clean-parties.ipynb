{
 "cells": [
  {
   "cell_type": "code",
   "execution_count": 1,
   "metadata": {
    "scrolled": true
   },
   "outputs": [],
   "source": [
    "import pandas as pd\n",
    "import numpy as np\n",
    "import matplotlib as plt\n",
    "%matplotlib inline"
   ]
  },
  {
   "cell_type": "code",
   "execution_count": 2,
   "metadata": {
    "scrolled": false
   },
   "outputs": [
    {
     "name": "stderr",
     "output_type": "stream",
     "text": [
      "C:\\Users\\Harold\\anaconda3\\lib\\site-packages\\IPython\\core\\interactiveshell.py:3146: DtypeWarning: Columns (4,13,17) have mixed types.Specify dtype option on import or set low_memory=False.\n",
      "  has_raised = await self.run_ast_nodes(code_ast.body, cell_name,\n"
     ]
    }
   ],
   "source": [
    "parties =  pd.read_csv(\"../parties2018.csv\",dtype={'case_id': str})"
   ]
  },
  {
   "cell_type": "markdown",
   "metadata": {},
   "source": [
    "## Utility functions"
   ]
  },
  {
   "cell_type": "code",
   "execution_count": 3,
   "metadata": {
    "scrolled": true
   },
   "outputs": [],
   "source": [
    "def extract_set(description):\n",
    "    lines = description.split(\"\\n\")\n",
    "    trad = {}\n",
    "    for line in lines:\n",
    "        l,r = line.split(\"-\",1)\n",
    "        l= l.strip()\n",
    "        r= r.strip().lower()\n",
    "        trad[r]= l\n",
    "        \n",
    "    return trad"
   ]
  },
  {
   "cell_type": "code",
   "execution_count": 4,
   "metadata": {
    "scrolled": true
   },
   "outputs": [],
   "source": [
    "def set_translate(trad,s):\n",
    "    if s in trad:\n",
    "        return trad[s]\n",
    "    else:\n",
    "        return np.nan"
   ]
  },
  {
   "cell_type": "code",
   "execution_count": 5,
   "metadata": {},
   "outputs": [],
   "source": [
    "df = parties.copy()"
   ]
  },
  {
   "cell_type": "markdown",
   "metadata": {},
   "source": [
    "## movement_preceding_collision"
   ]
  },
  {
   "cell_type": "code",
   "execution_count": 6,
   "metadata": {
    "scrolled": true
   },
   "outputs": [
    {
     "name": "stdout",
     "output_type": "stream",
     "text": [
      "{'stopped': 'A', 'proceeding straight': 'B', 'ran off road': 'C', 'making right turn': 'D', 'making left turn': 'E', 'making u-turn': 'F', 'backing': 'G', 'slowing/stopping': 'H', 'passing other vehicle': 'I', 'changing lanes': 'J', 'parking maneuver': 'K', 'entering traffic': 'L', 'other unsafe turning': 'M', 'crossed into opposing lane': 'N', 'parked': 'O', 'merging': 'P', 'traveling wrong way': 'Q', 'other': 'R'}\n"
     ]
    }
   ],
   "source": [
    "trad1 = \"A - Stopped\\nB - Proceeding Straight\\nC - Ran Off Road\\nD - Making Right Turn\\nE - Making Left Turn\\nF - Making U-Turn\\nG - Backing\\nH - Slowing/Stopping\\nI - Passing Other Vehicle\\nJ - Changing Lanes\\nK - Parking Maneuver\\nL - Entering Traffic\\nM - Other Unsafe Turning\\nN - Crossed Into Opposing Lane\"\n",
    "trad2=\"\\nO - Parked\\nP - Merging\\nQ - Traveling Wrong Way\\nR - Other\"\n",
    "trad = trad1+trad2\n",
    "movement_preceding_collision_trad = extract_set(trad)\n",
    "print(movement_preceding_collision_trad)"
   ]
  },
  {
   "cell_type": "code",
   "execution_count": 7,
   "metadata": {},
   "outputs": [],
   "source": [
    "before = df['movement_preceding_collision'].isnull().sum()"
   ]
  },
  {
   "cell_type": "code",
   "execution_count": 8,
   "metadata": {},
   "outputs": [],
   "source": [
    "df['movement_preceding_collision'] = df['movement_preceding_collision'].apply(lambda s : set_translate(movement_preceding_collision_trad,s))"
   ]
  },
  {
   "cell_type": "markdown",
   "metadata": {},
   "source": [
    "## other_associated_factor_1"
   ]
  },
  {
   "cell_type": "code",
   "execution_count": 9,
   "metadata": {},
   "outputs": [],
   "source": [
    "df.rename(columns={'other_associate_factor_1':'other_associated_factor_1',\n",
    "                   'other_associate_factor_2':'other_associated_factor_2'},inplace=True)"
   ]
  },
  {
   "cell_type": "markdown",
   "metadata": {},
   "source": [
    "## party_type"
   ]
  },
  {
   "cell_type": "code",
   "execution_count": 10,
   "metadata": {},
   "outputs": [],
   "source": [
    "party_type_trad=extract_set(\"1 - driver\\n2 - Pedestrian\\n3 - Parked Vehicle\\n4 - Bicyclist\\n5 - Other\")"
   ]
  },
  {
   "cell_type": "code",
   "execution_count": 11,
   "metadata": {},
   "outputs": [],
   "source": [
    "df['party_type'] = df['party_type'].apply(lambda s : set_translate(party_type_trad,s))"
   ]
  },
  {
   "cell_type": "markdown",
   "metadata": {},
   "source": [
    "## statewide_vehicle_type"
   ]
  },
  {
   "cell_type": "code",
   "execution_count": 12,
   "metadata": {},
   "outputs": [],
   "source": [
    "trad1=\"A - Passenger Car\\nB - Passenger Car with Trailer\\nC - Motorcycle/Scooter\\nD - Pickup or Panel Truck\\nE - Pickup or Panel Truck with Trailer\"\n",
    "trad2=\"\\nF - Truck or Truck Tractor\\nG - Truck or Truck Tractor with Trailer\\nH - Schoolbus\\nI - Other Bus\\nJ - Emergency Vehicle\\nK - Highway Construction Equipment\\nL - Bicycle\\nM - Other Vehicle\\nN - Pedestrian\\nO - Moped\"\n",
    "trad=trad1+trad2\n",
    "statewide_vehicle_type_trad=extract_set(trad)"
   ]
  },
  {
   "cell_type": "code",
   "execution_count": 13,
   "metadata": {},
   "outputs": [
    {
     "name": "stdout",
     "output_type": "stream",
     "text": [
      "{'passenger car': 'A', 'passenger car with trailer': 'B', 'motorcycle/scooter': 'C', 'pickup or panel truck': 'D', 'pickup or panel truck with trailer': 'E', 'truck or truck tractor': 'F', 'truck or truck tractor with trailer': 'G', 'schoolbus': 'H', 'other bus': 'I', 'emergency vehicle': 'J', 'highway construction equipment': 'K', 'bicycle': 'L', 'other vehicle': 'M', 'pedestrian': 'N', 'moped': 'O'}\n"
     ]
    }
   ],
   "source": [
    "print(statewide_vehicle_type_trad)"
   ]
  },
  {
   "cell_type": "code",
   "execution_count": 14,
   "metadata": {},
   "outputs": [],
   "source": [
    "df['statewide_vehicle_type'] = df['statewide_vehicle_type'].apply(lambda s : set_translate(statewide_vehicle_type_trad,s))"
   ]
  },
  {
   "cell_type": "markdown",
   "metadata": {},
   "source": [
    "## Changing Types"
   ]
  },
  {
   "cell_type": "code",
   "execution_count": 15,
   "metadata": {
    "scrolled": true
   },
   "outputs": [
    {
     "name": "stdout",
     "output_type": "stream",
     "text": [
      "at_fault                          int64\n",
      "case_id                          object\n",
      "cellphone_use                    object\n",
      "financial_responsibility         object\n",
      "hazardous_materials              object\n",
      "id                                int64\n",
      "movement_preceding_collision     object\n",
      "other_associated_factor_1        object\n",
      "other_associated_factor_2        object\n",
      "party_age                       float64\n",
      "party_drug_physical              object\n",
      "party_number                      int64\n",
      "party_safety_equipment_1         object\n",
      "party_safety_equipment_2         object\n",
      "party_sex                        object\n",
      "party_sobriety                   object\n",
      "party_type                       object\n",
      "school_bus_related               object\n",
      "statewide_vehicle_type           object\n",
      "vehicle_make                     object\n",
      "vehicle_year                    float64\n",
      "dtype: object\n"
     ]
    }
   ],
   "source": [
    "print(df.dtypes)"
   ]
  },
  {
   "cell_type": "code",
   "execution_count": 16,
   "metadata": {},
   "outputs": [],
   "source": [
    "df['party_age'] = df['party_age'].astype('Int64')"
   ]
  },
  {
   "cell_type": "code",
   "execution_count": 17,
   "metadata": {},
   "outputs": [],
   "source": [
    "df['vehicle_year'] = df['vehicle_year'].astype('Int64')"
   ]
  },
  {
   "cell_type": "code",
   "execution_count": 18,
   "metadata": {},
   "outputs": [],
   "source": [
    "def translate(s):\n",
    "    dic={'1':'B','2':'C','3':'D'}\n",
    "    if s in dic.keys():\n",
    "        return dic[s]\n",
    "    else:\n",
    "        return s"
   ]
  },
  {
   "cell_type": "code",
   "execution_count": 19,
   "metadata": {},
   "outputs": [],
   "source": [
    "df['cellphone_use'] = df['cellphone_use'].apply(translate)"
   ]
  },
  {
   "cell_type": "code",
   "execution_count": 20,
   "metadata": {},
   "outputs": [],
   "source": [
    "victim_sex_trad = {'male':'M','female':'F'}\n",
    "df['party_sex'] = df['party_sex'].apply(lambda s : set_translate(victim_sex_trad,s))"
   ]
  },
  {
   "cell_type": "markdown",
   "metadata": {},
   "source": [
    "## Export"
   ]
  },
  {
   "cell_type": "code",
   "execution_count": 21,
   "metadata": {},
   "outputs": [],
   "source": [
    "df.to_csv(r'../parties_clean.csv',index=False)"
   ]
  }
 ],
 "metadata": {
  "kernelspec": {
   "display_name": "Python 3",
   "language": "python",
   "name": "python3"
  },
  "language_info": {
   "codemirror_mode": {
    "name": "ipython",
    "version": 3
   },
   "file_extension": ".py",
   "mimetype": "text/x-python",
   "name": "python",
   "nbconvert_exporter": "python",
   "pygments_lexer": "ipython3",
   "version": "3.8.5"
  }
 },
 "nbformat": 4,
 "nbformat_minor": 4
}
