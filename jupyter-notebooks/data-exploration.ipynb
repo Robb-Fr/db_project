{
 "cells": [
  {
   "cell_type": "code",
   "execution_count": 1,
   "metadata": {},
   "outputs": [],
   "source": [
    "import pandas as pd\n",
    "import numpy as np\n",
    "import matplotlib as plt\n",
    "%matplotlib inline"
   ]
  },
  {
   "cell_type": "code",
   "execution_count": 2,
   "metadata": {
    "scrolled": true
   },
   "outputs": [
    {
     "name": "stderr",
     "output_type": "stream",
     "text": [
      "C:\\Users\\Harold\\anaconda3\\lib\\site-packages\\IPython\\core\\interactiveshell.py:3146: DtypeWarning: Columns (8) have mixed types.Specify dtype option on import or set low_memory=False.\n",
      "  has_raised = await self.run_ast_nodes(code_ast.body, cell_name,\n"
     ]
    },
    {
     "name": "stdout",
     "output_type": "stream",
     "text": [
      "    case_id  id  party_number  victim_age victim_degree_of_injury  \\\n",
      "0       3.0   3             1        21.0               no injury   \n",
      "1       5.0   4             1        44.0           severe injury   \n",
      "2       8.0   5             1        59.0               no injury   \n",
      "3       8.0   6             2        31.0               no injury   \n",
      "4       9.0   7             2        14.0       complaint of pain   \n",
      "5       9.0   8             2        39.0               no injury   \n",
      "6      13.0   9             1        47.0    other visible injury   \n",
      "7      14.0  10             2        26.0    other visible injury   \n",
      "8      14.0  11             3        40.0       complaint of pain   \n",
      "9      15.0  12             1         8.0               no injury   \n",
      "10     15.0  13             2        59.0               no injury   \n",
      "11     16.0  14             1        20.0       complaint of pain   \n",
      "12     17.0  15             1        38.0               no injury   \n",
      "13     17.0  16             2        17.0               no injury   \n",
      "14     20.0  17             1        21.0               no injury   \n",
      "15     20.0  18             1        19.0       complaint of pain   \n",
      "16     23.0  19             1        16.0               no injury   \n",
      "17     23.0  20             1        13.0       complaint of pain   \n",
      "18     23.0  21             1        15.0               no injury   \n",
      "19     23.0  22             1        15.0               no injury   \n",
      "20     26.0  23             1         9.0       complaint of pain   \n",
      "21     26.0  24             1         9.0               no injury   \n",
      "22     26.0  25             1         7.0               no injury   \n",
      "23     26.0  26             1        29.0               no injury   \n",
      "24     26.0  27             1         7.0               no injury   \n",
      "25     26.0  28             1         3.0               no injury   \n",
      "26     26.0  29             2        42.0           severe injury   \n",
      "27     26.0  30             2        42.0           severe injury   \n",
      "28     28.0  31             2        63.0       complaint of pain   \n",
      "29     32.0  32             2        48.0    other visible injury   \n",
      "\n",
      "    victim_ejected  victim_role victim_safety_equipment_1  \\\n",
      "0              0.0            2                         G   \n",
      "1              0.0            1                         G   \n",
      "2              0.0            2                         G   \n",
      "3              0.0            2                         G   \n",
      "4              0.0            2                         C   \n",
      "5              0.0            2                         G   \n",
      "6              1.0            4                         V   \n",
      "7              0.0            1                         G   \n",
      "8              0.0            1                         G   \n",
      "9              0.0            2                         G   \n",
      "10             0.0            2                         G   \n",
      "11             0.0            1                         L   \n",
      "12             0.0            2                         G   \n",
      "13             0.0            2                         C   \n",
      "14             0.0            2                         G   \n",
      "15             0.0            1                         G   \n",
      "16             0.0            2                         G   \n",
      "17             1.0            2                         N   \n",
      "18             0.0            2                         G   \n",
      "19             0.0            2                         G   \n",
      "20             0.0            2                         D   \n",
      "21             0.0            2                         E   \n",
      "22             0.0            2                         C   \n",
      "23             0.0            2                         D   \n",
      "24             0.0            2                         D   \n",
      "25             0.0            2                         D   \n",
      "26             0.0            1                         G   \n",
      "27             0.0            2                         G   \n",
      "28             3.0            3                       NaN   \n",
      "29             1.0            4                         V   \n",
      "\n",
      "   victim_safety_equipment_2  victim_seating_position victim_sex  \n",
      "0                        NaN                      3.0       male  \n",
      "1                        NaN                      1.0       male  \n",
      "2                        NaN                      3.0     female  \n",
      "3                        NaN                      3.0       male  \n",
      "4                        NaN                      6.0     female  \n",
      "5                        NaN                      3.0     female  \n",
      "6                        NaN                      1.0       male  \n",
      "7                        NaN                      1.0     female  \n",
      "8                        NaN                      1.0       male  \n",
      "9                        NaN                      3.0     female  \n",
      "10                       NaN                      3.0     female  \n",
      "11                       NaN                      1.0     female  \n",
      "12                       NaN                      3.0     female  \n",
      "13                       NaN                      2.0     female  \n",
      "14                       NaN                      3.0       male  \n",
      "15                       NaN                      1.0     female  \n",
      "16                       NaN                      3.0       male  \n",
      "17                       NaN                      0.0       male  \n",
      "18                       NaN                      6.0       male  \n",
      "19                       NaN                      4.0       male  \n",
      "20                       NaN                      4.0     female  \n",
      "21                       NaN                      3.0     female  \n",
      "22                       NaN                      9.0     female  \n",
      "23                       NaN                      4.0     female  \n",
      "24                       NaN                      0.0       male  \n",
      "25                       NaN                      0.0     female  \n",
      "26                       NaN                      1.0       male  \n",
      "27                       NaN                      3.0     female  \n",
      "28                       NaN                      9.0     female  \n",
      "29                       NaN                      1.0       male  \n"
     ]
    }
   ],
   "source": [
    "victims = pd.read_csv(\"../victims2018.csv\").head(30)\n",
    "print(victims)"
   ]
  },
  {
   "cell_type": "code",
   "execution_count": 3,
   "metadata": {},
   "outputs": [
    {
     "name": "stdout",
     "output_type": "stream",
     "text": [
      "Empty DataFrame\n",
      "Columns: [case_id, id, party_number, victim_age, victim_degree_of_injury, victim_ejected, victim_role, victim_safety_equipment_1, victim_safety_equipment_2, victim_seating_position, victim_sex]\n",
      "Index: []\n"
     ]
    }
   ],
   "source": [
    "new_df_victims = victims.query('case_id == \"0006933\"')\n",
    "print(new_df_victims)"
   ]
  },
  {
   "cell_type": "code",
   "execution_count": 12,
   "metadata": {
    "scrolled": true
   },
   "outputs": [
    {
     "name": "stderr",
     "output_type": "stream",
     "text": [
      "C:\\Users\\Harold\\anaconda3\\lib\\site-packages\\IPython\\core\\interactiveshell.py:3146: DtypeWarning: Columns (9) have mixed types.Specify dtype option on import or set low_memory=False.\n",
      "  has_raised = await self.run_ast_nodes(code_ast.body, cell_name,\n"
     ]
    },
    {
     "name": "stdout",
     "output_type": "stream",
     "text": [
      "Empty DataFrame\n",
      "Columns: [case_id, collision_date, collision_severity, collision_time, county_city_location, hit_and_run, jurisdiction, lighting, location_type, officer_id, pcf_violation, pcf_violation_category, pcf_violation_subsection, population, primary_collision_factor, process_date, ramp_intersection, road_condition_1, road_condition_2, road_surface, tow_away, type_of_collision, weather_1, weather_2]\n",
      "Index: []\n",
      "\n",
      "[0 rows x 24 columns]\n"
     ]
    }
   ],
   "source": [
    "\n",
    "col =  pd.read_csv(\"../collisions2018.csv\").head(30)\n"
   ]
  },
  {
   "cell_type": "code",
   "execution_count": 18,
   "metadata": {},
   "outputs": [
    {
     "name": "stdout",
     "output_type": "stream",
     "text": [
      "Empty DataFrame\n",
      "Columns: [case_id, collision_date, collision_severity, collision_time, county_city_location, hit_and_run, jurisdiction, lighting, location_type, officer_id, pcf_violation, pcf_violation_category, pcf_violation_subsection, population, primary_collision_factor, process_date, ramp_intersection, road_condition_1, road_condition_2, road_surface, tow_away, type_of_collision, weather_1, weather_2]\n",
      "Index: []\n",
      "\n",
      "[0 rows x 24 columns]\n"
     ]
    }
   ],
   "source": [
    "print(col.query('case_id == 27.0'))"
   ]
  },
  {
   "cell_type": "code",
   "execution_count": 6,
   "metadata": {},
   "outputs": [
    {
     "name": "stderr",
     "output_type": "stream",
     "text": [
      "C:\\Users\\Harold\\anaconda3\\lib\\site-packages\\IPython\\core\\interactiveshell.py:3146: DtypeWarning: Columns (4,13,17) have mixed types.Specify dtype option on import or set low_memory=False.\n",
      "  has_raised = await self.run_ast_nodes(code_ast.body, cell_name,\n"
     ]
    }
   ],
   "source": [
    "\n",
    "parties = pd.read_csv(\"../parties2018.csv\")\n",
    "\n"
   ]
  },
  {
   "cell_type": "code",
   "execution_count": 20,
   "metadata": {},
   "outputs": [
    {
     "name": "stdout",
     "output_type": "stream",
     "text": [
      "0      1.0\n",
      "1      1.0\n",
      "2      2.0\n",
      "3      3.0\n",
      "4      3.0\n",
      "5      4.0\n",
      "6      4.0\n",
      "7      5.0\n",
      "8      6.0\n",
      "9      6.0\n",
      "10     7.0\n",
      "11     7.0\n",
      "12     8.0\n",
      "13     8.0\n",
      "14     9.0\n",
      "15     9.0\n",
      "16    11.0\n",
      "17    11.0\n",
      "18    12.0\n",
      "19    12.0\n",
      "20    13.0\n",
      "21    13.0\n",
      "22    14.0\n",
      "23    14.0\n",
      "24    14.0\n",
      "25    15.0\n",
      "26    15.0\n",
      "27    16.0\n",
      "28    17.0\n",
      "29    17.0\n",
      "30    18.0\n",
      "31    19.0\n",
      "32    19.0\n",
      "33    20.0\n",
      "34    21.0\n",
      "35    21.0\n",
      "36    23.0\n",
      "37    24.0\n",
      "38    24.0\n",
      "39    24.0\n",
      "40    25.0\n",
      "41    25.0\n",
      "42    26.0\n",
      "43    26.0\n",
      "44    28.0\n",
      "45    28.0\n",
      "46    29.0\n",
      "47    29.0\n",
      "48    30.0\n",
      "49    30.0\n",
      "50    31.0\n",
      "51    31.0\n",
      "52    32.0\n",
      "53    32.0\n",
      "54    33.0\n",
      "55    33.0\n",
      "56    33.0\n",
      "57    34.0\n",
      "58    35.0\n",
      "59    36.0\n",
      "Name: case_id, dtype: float64\n"
     ]
    }
   ],
   "source": [
    "print(parties.head(60).case_id)"
   ]
  },
  {
   "cell_type": "markdown",
   "metadata": {},
   "source": [
    "# Transforming strings of collision_severity into the integer code given in the project description"
   ]
  },
  {
   "cell_type": "code",
   "execution_count": 8,
   "metadata": {},
   "outputs": [],
   "source": [
    "def collision_severity_translate(s):\n",
    "    dic = {'fatal':1, 'severe injury':2, 'other injury':3,\n",
    "           'pain':4, 'property damage only':5\n",
    "    }\n",
    "    if s in dic:\n",
    "        return dic[s]\n",
    "    else:\n",
    "        return numpy.nan"
   ]
  },
  {
   "cell_type": "code",
   "execution_count": 9,
   "metadata": {},
   "outputs": [],
   "source": [
    "col['collision_severity'] = col['collision_severity'].apply(lambda s : collision_severity_translate(s))"
   ]
  },
  {
   "cell_type": "code",
   "execution_count": 10,
   "metadata": {},
   "outputs": [
    {
     "name": "stdout",
     "output_type": "stream",
     "text": [
      "    case_id collision_date  collision_severity collision_time  \\\n",
      "0       1.0     2002-01-18                   5       15:30:00   \n",
      "1       2.0     2002-02-13                   5       19:30:00   \n",
      "2       3.0     2002-02-11                   5       15:30:00   \n",
      "3       4.0     2002-02-12                   5       07:45:00   \n",
      "4       5.0     2002-02-14                   2       11:35:00   \n",
      "5       6.0     2002-02-14                   5       17:40:00   \n",
      "6       7.0     2002-02-14                   5       17:55:00   \n",
      "7       8.0     2002-02-14                   5       15:45:00   \n",
      "8       9.0     2002-02-13                   4       16:12:00   \n",
      "9      11.0     2002-02-09                   5       08:00:00   \n",
      "10     12.0     2002-02-19                   5       06:30:00   \n",
      "11     13.0     2002-02-11                   3       12:08:00   \n",
      "12     14.0     2002-02-15                   3       12:10:00   \n",
      "13     15.0     2002-02-15                   5       15:15:00   \n",
      "14     16.0     2002-02-15                   4       16:50:00   \n",
      "15     17.0     2002-02-15                   5       23:05:00   \n",
      "16     18.0     2002-02-13                   5       22:20:00   \n",
      "17     19.0     2002-01-20                   5       07:10:00   \n",
      "18     20.0     2002-02-11                   4       16:43:00   \n",
      "19     21.0     2002-02-10                   5       06:00:00   \n",
      "\n",
      "    county_city_location      hit_and_run  jurisdiction  \\\n",
      "0                   1900  not hit and run        9575.0   \n",
      "1                   1500      misdemeanor        9420.0   \n",
      "2                   1502      misdemeanor        9420.0   \n",
      "3                   1500      misdemeanor        9420.0   \n",
      "4                   1500  not hit and run        9420.0   \n",
      "5                   1500  not hit and run        9420.0   \n",
      "6                   1500  not hit and run        9420.0   \n",
      "7                   1502  not hit and run        9420.0   \n",
      "8                   1500  not hit and run        9420.0   \n",
      "9                   1502  not hit and run        9420.0   \n",
      "10                  1500  not hit and run        9420.0   \n",
      "11                  1500  not hit and run        9420.0   \n",
      "12                  1500  not hit and run        9420.0   \n",
      "13                  1502  not hit and run        9420.0   \n",
      "14                  1500  not hit and run        9420.0   \n",
      "15                  1500  not hit and run        9420.0   \n",
      "16                  1500  not hit and run        9420.0   \n",
      "17                  1500      misdemeanor        9420.0   \n",
      "18                  1500  not hit and run        9420.0   \n",
      "19                  1502      misdemeanor        9420.0   \n",
      "\n",
      "                   lighting location_type officer_id  ...  \\\n",
      "0                  daylight           NaN      16418  ...   \n",
      "1                       NaN           NaN      14360  ...   \n",
      "2                  daylight       highway      16117  ...   \n",
      "3                  daylight           NaN       6078  ...   \n",
      "4                  daylight           NaN      13851  ...   \n",
      "5              dusk or dawn           NaN      16153  ...   \n",
      "6   dark with street lights           NaN      14706  ...   \n",
      "7                  daylight       highway      15833  ...   \n",
      "8                  daylight           NaN      15896  ...   \n",
      "9                  daylight           NaN      12547  ...   \n",
      "10                 daylight           NaN      10426  ...   \n",
      "11                 daylight           NaN      13295  ...   \n",
      "12                 daylight           NaN      12547  ...   \n",
      "13                 daylight           NaN      15833  ...   \n",
      "14                 daylight       highway      13649  ...   \n",
      "15  dark with street lights           NaN      14836  ...   \n",
      "16  dark with street lights           NaN      15790  ...   \n",
      "17                 daylight  intersection      15514  ...   \n",
      "18                 daylight       highway      15514  ...   \n",
      "19             dusk or dawn           NaN      16117  ...   \n",
      "\n",
      "    primary_collision_factor process_date ramp_intersection  road_condition_1  \\\n",
      "0     vehicle code violation   2002-06-14               NaN            normal   \n",
      "1     vehicle code violation   2002-03-29               NaN            normal   \n",
      "2     vehicle code violation   2003-07-15               NaN            normal   \n",
      "3     vehicle code violation   2002-05-22               NaN            normal   \n",
      "4     vehicle code violation   2003-07-28               NaN            normal   \n",
      "5     vehicle code violation   2002-03-29               NaN            normal   \n",
      "6     vehicle code violation   2002-03-29               NaN            normal   \n",
      "7     vehicle code violation   2002-05-15               NaN            normal   \n",
      "8     vehicle code violation   2002-03-28               NaN            normal   \n",
      "9     vehicle code violation   2002-04-16               NaN            normal   \n",
      "10    vehicle code violation   2002-03-28               NaN            normal   \n",
      "11    vehicle code violation   2002-03-28               NaN            normal   \n",
      "12    vehicle code violation   2002-03-28               NaN            normal   \n",
      "13    vehicle code violation   2002-03-28               NaN            normal   \n",
      "14    vehicle code violation   2002-05-28               NaN            normal   \n",
      "15    vehicle code violation   2002-03-28               NaN            normal   \n",
      "16    vehicle code violation   2002-03-28               NaN            normal   \n",
      "17    vehicle code violation   2002-05-28               5.0            normal   \n",
      "18    vehicle code violation   2002-05-28               NaN            normal   \n",
      "19    vehicle code violation   2002-03-28               NaN            normal   \n",
      "\n",
      "   road_condition_2 road_surface  tow_away type_of_collision weather_1  \\\n",
      "0               NaN          dry       1.0          rear end     clear   \n",
      "1               NaN          dry       0.0        hit object     clear   \n",
      "2               NaN          dry       0.0        hit object     clear   \n",
      "3               NaN          dry       0.0         sideswipe     clear   \n",
      "4               NaN          dry       1.0        overturned     clear   \n",
      "5               NaN          dry       0.0          rear end     clear   \n",
      "6               NaN          dry       0.0         sideswipe     clear   \n",
      "7               NaN          dry       0.0          rear end     clear   \n",
      "8               NaN          dry       1.0         broadside    cloudy   \n",
      "9               NaN          dry       0.0             other     clear   \n",
      "10              NaN          dry       0.0         broadside     clear   \n",
      "11              NaN          dry       0.0         broadside     clear   \n",
      "12              NaN          dry       1.0         broadside    cloudy   \n",
      "13              NaN          dry       0.0          rear end     clear   \n",
      "14              NaN          dry       1.0        hit object     clear   \n",
      "15              NaN          dry       0.0         broadside     clear   \n",
      "16              NaN          dry       1.0        hit object     clear   \n",
      "17              NaN          dry       1.0           head-on     clear   \n",
      "18              NaN          dry       1.0        hit object     clear   \n",
      "19              NaN          dry       0.0         sideswipe     clear   \n",
      "\n",
      "   weather_2  \n",
      "0        NaN  \n",
      "1        NaN  \n",
      "2        NaN  \n",
      "3        NaN  \n",
      "4        NaN  \n",
      "5        NaN  \n",
      "6        NaN  \n",
      "7        NaN  \n",
      "8        NaN  \n",
      "9        NaN  \n",
      "10       NaN  \n",
      "11       NaN  \n",
      "12       NaN  \n",
      "13       NaN  \n",
      "14       NaN  \n",
      "15       NaN  \n",
      "16       NaN  \n",
      "17       NaN  \n",
      "18       NaN  \n",
      "19       NaN  \n",
      "\n",
      "[20 rows x 24 columns]\n"
     ]
    }
   ],
   "source": [
    "print(col)"
   ]
  }
 ],
 "metadata": {
  "kernelspec": {
   "display_name": "Python 3",
   "language": "python",
   "name": "python3"
  },
  "language_info": {
   "codemirror_mode": {
    "name": "ipython",
    "version": 3
   },
   "file_extension": ".py",
   "mimetype": "text/x-python",
   "name": "python",
   "nbconvert_exporter": "python",
   "pygments_lexer": "ipython3",
   "version": "3.8.5"
  }
 },
 "nbformat": 4,
 "nbformat_minor": 4
}
