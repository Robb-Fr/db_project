{
 "cells": [
  {
   "cell_type": "code",
   "execution_count": 3,
   "metadata": {},
   "outputs": [],
   "source": [
    "import pandas as pd\n",
    "import numpy as np"
   ]
  },
  {
   "cell_type": "code",
   "execution_count": 4,
   "metadata": {
    "scrolled": true
   },
   "outputs": [
    {
     "name": "stderr",
     "output_type": "stream",
     "text": [
      "C:\\Users\\Harold\\anaconda3\\lib\\site-packages\\IPython\\core\\interactiveshell.py:3146: DtypeWarning: Columns (9) have mixed types.Specify dtype option on import or set low_memory=False.\n",
      "  has_raised = await self.run_ast_nodes(code_ast.body, cell_name,\n"
     ]
    }
   ],
   "source": [
    "col = pd.read_csv(\"../collisions_clean.csv\",dtype={'case_id': str})"
   ]
  },
  {
   "cell_type": "code",
   "execution_count": 3,
   "metadata": {},
   "outputs": [
    {
     "name": "stderr",
     "output_type": "stream",
     "text": [
      "C:\\Users\\Harold\\anaconda3\\lib\\site-packages\\IPython\\core\\interactiveshell.py:3146: DtypeWarning: Columns (4,13,17) have mixed types.Specify dtype option on import or set low_memory=False.\n",
      "  has_raised = await self.run_ast_nodes(code_ast.body, cell_name,\n"
     ]
    }
   ],
   "source": [
    "parties = pd.read_csv(\"../parties_clean.csv\",dtype={'case_id': str})"
   ]
  },
  {
   "cell_type": "code",
   "execution_count": 4,
   "metadata": {
    "scrolled": true
   },
   "outputs": [
    {
     "name": "stderr",
     "output_type": "stream",
     "text": [
      "C:\\Users\\Harold\\anaconda3\\lib\\site-packages\\IPython\\core\\interactiveshell.py:3146: DtypeWarning: Columns (8) have mixed types.Specify dtype option on import or set low_memory=False.\n",
      "  has_raised = await self.run_ast_nodes(code_ast.body, cell_name,\n"
     ]
    }
   ],
   "source": [
    "victims = pd.read_csv(\"../victims_clean.csv\",dtype={'case_id': str})"
   ]
  },
  {
   "cell_type": "markdown",
   "metadata": {},
   "source": [
    "## Weather and road_condition"
   ]
  },
  {
   "cell_type": "code",
   "execution_count": 5,
   "metadata": {},
   "outputs": [],
   "source": [
    "weather_1 = col[['case_id','weather_1']].dropna()\n",
    "weather_2 = col[['case_id','weather_2']].dropna()\n",
    "\n",
    "weather_1.rename(columns = {'weather_1':'weather'}, inplace = True)\n",
    "weather_2.rename(columns = {'weather_2':'weather'}, inplace = True)   "
   ]
  },
  {
   "cell_type": "code",
   "execution_count": 6,
   "metadata": {},
   "outputs": [],
   "source": [
    "final_weather = pd.concat([weather_1, weather_2], ignore_index=True).sort_values('case_id')"
   ]
  },
  {
   "cell_type": "code",
   "execution_count": 7,
   "metadata": {},
   "outputs": [],
   "source": [
    "road_condition_1 = col[['case_id','road_condition_1']].dropna()\n",
    "road_condition_2 = col[['case_id','road_condition_2']].dropna()\n",
    "\n",
    "road_condition_1.rename(columns = {'road_condition_1':'road_condition'}, inplace = True)\n",
    "road_condition_2.rename(columns = {'road_condition_2':'road_condition'}, inplace = True)   "
   ]
  },
  {
   "cell_type": "code",
   "execution_count": 8,
   "metadata": {},
   "outputs": [],
   "source": [
    "final_road_condition = pd.concat([road_condition_1, road_condition_2], ignore_index=True).sort_values('case_id')"
   ]
  },
  {
   "cell_type": "code",
   "execution_count": 9,
   "metadata": {},
   "outputs": [],
   "source": [
    "final_weather.to_csv(r'../collision_in_weather.csv',index=False)\n",
    "final_road_condition.to_csv(r'../collision_in_road_condition.csv',index=False)"
   ]
  },
  {
   "cell_type": "markdown",
   "metadata": {},
   "source": [
    "## Safety_equipment"
   ]
  },
  {
   "cell_type": "code",
   "execution_count": 10,
   "metadata": {},
   "outputs": [],
   "source": [
    "party_safety_equipment_1 = parties[['id','party_safety_equipment_1']].dropna()\n",
    "party_safety_equipment_2 = parties[['id','party_safety_equipment_2']].dropna()\n",
    "\n",
    "party_safety_equipment_1.rename(columns = {'party_safety_equipment_1':'safety_equipment'}, inplace = True)\n",
    "party_safety_equipment_2.rename(columns = {'party_safety_equipment_2':'safety_equipment'}, inplace = True)  "
   ]
  },
  {
   "cell_type": "code",
   "execution_count": 11,
   "metadata": {},
   "outputs": [],
   "source": [
    "final_party_safety_equipment = pd.concat([party_safety_equipment_1, party_safety_equipment_2], ignore_index=True).sort_values('id')"
   ]
  },
  {
   "cell_type": "code",
   "execution_count": 12,
   "metadata": {},
   "outputs": [],
   "source": [
    "final_party_safety_equipment.to_csv(r'../party_equipped_with.csv',index=False)"
   ]
  },
  {
   "cell_type": "code",
   "execution_count": 13,
   "metadata": {},
   "outputs": [],
   "source": [
    "victim_safety_equipment_1 = victims[['id','victim_safety_equipment_1']].dropna()\n",
    "victim_safety_equipment_2 = victims[['id','victim_safety_equipment_2']].dropna()\n",
    "\n",
    "victim_safety_equipment_1.rename(columns = {'victim_safety_equipment_1':'safety_equipment'}, inplace = True)\n",
    "victim_safety_equipment_2.rename(columns = {'victim_safety_equipment_2':'safety_equipment'}, inplace = True)  "
   ]
  },
  {
   "cell_type": "code",
   "execution_count": 14,
   "metadata": {},
   "outputs": [],
   "source": [
    "final_victim_safety_equipment = pd.concat([victim_safety_equipment_1, victim_safety_equipment_2], ignore_index=True).sort_values('id')"
   ]
  },
  {
   "cell_type": "code",
   "execution_count": 15,
   "metadata": {},
   "outputs": [],
   "source": [
    "final_victim_safety_equipment.to_csv(r'../victim_equipped_with.csv',index=False)"
   ]
  },
  {
   "cell_type": "code",
   "execution_count": 16,
   "metadata": {},
   "outputs": [
    {
     "name": "stdout",
     "output_type": "stream",
     "text": [
      "   at_fault  case_id cellphone_use financial_responsibility  \\\n",
      "0         1      1.0             C                        Y   \n",
      "1         0      1.0             D                        O   \n",
      "2         0      2.0           NaN                        O   \n",
      "3         0      3.0             D                        Y   \n",
      "4         1      3.0             D                      NaN   \n",
      "\n",
      "  hazardous_materials  id movement_preceding_collision  \\\n",
      "0                 NaN   8                            R   \n",
      "1                 NaN   9                            O   \n",
      "2                 NaN  10                            B   \n",
      "3                 NaN  11                            B   \n",
      "4                 NaN  12                            B   \n",
      "\n",
      "  other_associated_factor_1 other_associated_factor_2  party_age  ...  \\\n",
      "0                         L                       NaN       84.0  ...   \n",
      "1                         N                       NaN        NaN  ...   \n",
      "2                         O                       NaN        NaN  ...   \n",
      "3                         N                       NaN       20.0  ...   \n",
      "4                         N                       NaN        NaN  ...   \n",
      "\n",
      "  party_number  party_safety_equipment_1 party_safety_equipment_2 party_sex  \\\n",
      "0            1                         G                      NaN    female   \n",
      "1            2                       NaN                      NaN       NaN   \n",
      "2            1                       NaN                      NaN       NaN   \n",
      "3            1                         G                      NaN    female   \n",
      "4            2                       NaN                      NaN       NaN   \n",
      "\n",
      "  party_sobriety party_type  school_bus_related statewide_vehicle_type  \\\n",
      "0              A        1.0                 NaN                      A   \n",
      "1              H        3.0                 NaN                      A   \n",
      "2              H        5.0                 NaN                      D   \n",
      "3              A        1.0                 NaN                      A   \n",
      "4              G        1.0                 NaN                      D   \n",
      "\n",
      "  vehicle_make vehicle_year  \n",
      "0         FORD       2000.0  \n",
      "1        BUICK       1992.0  \n",
      "2       TOYOTA          NaN  \n",
      "3         FORD       1995.0  \n",
      "4          NaN          NaN  \n",
      "\n",
      "[5 rows x 21 columns]\n"
     ]
    }
   ],
   "source": [
    "print(parties.head())"
   ]
  },
  {
   "cell_type": "markdown",
   "metadata": {},
   "source": [
    "## Other_associate_factor"
   ]
  },
  {
   "cell_type": "code",
   "execution_count": 17,
   "metadata": {},
   "outputs": [],
   "source": [
    "other_associated_factor_1 = parties[['id','other_associated_factor_1']].dropna()\n",
    "other_associated_factor_2 = parties[['id','other_associated_factor_2']].dropna()\n",
    "\n",
    "other_associated_factor_1.rename(columns = {'other_associated_factor_1':'other_associated_factor'}, inplace = True)\n",
    "other_associated_factor_2.rename(columns = {'other_associated_factor_2':'other_associated_factor'}, inplace = True)  "
   ]
  },
  {
   "cell_type": "code",
   "execution_count": 18,
   "metadata": {},
   "outputs": [],
   "source": [
    "final_other_associated_factor = pd.concat([other_associated_factor_1, other_associated_factor_2], ignore_index=True).sort_values('id')"
   ]
  },
  {
   "cell_type": "code",
   "execution_count": 19,
   "metadata": {},
   "outputs": [],
   "source": [
    "final_other_associated_factor.to_csv(r'../party_other_associated_factor.csv',index=False)"
   ]
  }
 ],
 "metadata": {
  "kernelspec": {
   "display_name": "Python 3",
   "language": "python",
   "name": "python3"
  },
  "language_info": {
   "codemirror_mode": {
    "name": "ipython",
    "version": 3
   },
   "file_extension": ".py",
   "mimetype": "text/x-python",
   "name": "python",
   "nbconvert_exporter": "python",
   "pygments_lexer": "ipython3",
   "version": "3.8.5"
  }
 },
 "nbformat": 4,
 "nbformat_minor": 4
}
