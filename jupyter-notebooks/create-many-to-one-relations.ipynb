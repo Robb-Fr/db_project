{
 "cells": [
  {
   "cell_type": "code",
   "execution_count": 1,
   "metadata": {},
   "outputs": [],
   "source": [
    "import pandas as pd\n",
    "import numpy as np"
   ]
  },
  {
   "cell_type": "code",
   "execution_count": 2,
   "metadata": {
    "scrolled": true
   },
   "outputs": [
    {
     "name": "stderr",
     "output_type": "stream",
     "text": [
      "C:\\Users\\Harold\\anaconda3\\lib\\site-packages\\IPython\\core\\interactiveshell.py:3146: DtypeWarning: Columns (9) have mixed types.Specify dtype option on import or set low_memory=False.\n",
      "  has_raised = await self.run_ast_nodes(code_ast.body, cell_name,\n"
     ]
    }
   ],
   "source": [
    "col = pd.read_csv(\"../collisions_clean.csv\")"
   ]
  },
  {
   "cell_type": "code",
   "execution_count": 3,
   "metadata": {},
   "outputs": [
    {
     "name": "stderr",
     "output_type": "stream",
     "text": [
      "C:\\Users\\Harold\\anaconda3\\lib\\site-packages\\IPython\\core\\interactiveshell.py:3146: DtypeWarning: Columns (4,13,17) have mixed types.Specify dtype option on import or set low_memory=False.\n",
      "  has_raised = await self.run_ast_nodes(code_ast.body, cell_name,\n"
     ]
    }
   ],
   "source": [
    "parties = pd.read_csv(\"../parties2018.csv\")"
   ]
  },
  {
   "cell_type": "code",
   "execution_count": 4,
   "metadata": {
    "scrolled": true
   },
   "outputs": [
    {
     "name": "stderr",
     "output_type": "stream",
     "text": [
      "C:\\Users\\Harold\\anaconda3\\lib\\site-packages\\IPython\\core\\interactiveshell.py:3146: DtypeWarning: Columns (8) have mixed types.Specify dtype option on import or set low_memory=False.\n",
      "  has_raised = await self.run_ast_nodes(code_ast.body, cell_name,\n"
     ]
    }
   ],
   "source": [
    "victims = pd.read_csv(\"../victims2018.csv\")"
   ]
  },
  {
   "cell_type": "markdown",
   "metadata": {},
   "source": [
    "## Weather and road_condition"
   ]
  },
  {
   "cell_type": "code",
   "execution_count": 5,
   "metadata": {},
   "outputs": [],
   "source": [
    "weather_1 = col[['case_id','weather_1']].dropna()\n",
    "weather_2 = col[['case_id','weather_2']].dropna()\n",
    "\n",
    "weather_1.rename(columns = {'weather_1':'weather'}, inplace = True)\n",
    "weather_2.rename(columns = {'weather_2':'weather'}, inplace = True)   "
   ]
  },
  {
   "cell_type": "code",
   "execution_count": 6,
   "metadata": {},
   "outputs": [],
   "source": [
    "final_weather = pd.concat([weather_1, weather_2], ignore_index=True).sort_values('case_id')"
   ]
  },
  {
   "cell_type": "code",
   "execution_count": 7,
   "metadata": {},
   "outputs": [],
   "source": [
    "road_condition_1 = col[['case_id','road_condition_1']].dropna()\n",
    "road_condition_2 = col[['case_id','road_condition_2']].dropna()\n",
    "\n",
    "road_condition_1.rename(columns = {'road_condition_1':'road_condition'}, inplace = True)\n",
    "road_condition_2.rename(columns = {'road_condition_2':'road_condition'}, inplace = True)   "
   ]
  },
  {
   "cell_type": "code",
   "execution_count": 8,
   "metadata": {},
   "outputs": [],
   "source": [
    "final_road_condition = pd.concat([road_condition_1, road_condition_2], ignore_index=True).sort_values('case_id')"
   ]
  },
  {
   "cell_type": "code",
   "execution_count": 9,
   "metadata": {},
   "outputs": [],
   "source": [
    "final_weather.to_csv(r'../collision_in_weather.csv',index=False)\n",
    "final_road_condition.to_csv(r'../collision_in_road_condition.csv',index=False)"
   ]
  },
  {
   "cell_type": "markdown",
   "metadata": {},
   "source": [
    "## Safety_equipment"
   ]
  },
  {
   "cell_type": "code",
   "execution_count": 10,
   "metadata": {},
   "outputs": [],
   "source": [
    "party_safety_equipment_1 = parties[['id','party_safety_equipment_1']].dropna()\n",
    "party_safety_equipment_2 = parties[['id','party_safety_equipment_2']].dropna()\n",
    "\n",
    "party_safety_equipment_1.rename(columns = {'party_safety_equipment_1':'safety_equipment'}, inplace = True)\n",
    "party_safety_equipment_2.rename(columns = {'party_safety_equipment_2':'safety_equipment'}, inplace = True)  "
   ]
  },
  {
   "cell_type": "code",
   "execution_count": 11,
   "metadata": {},
   "outputs": [],
   "source": [
    "final_party_safety_equipment = pd.concat([party_safety_equipment_1, party_safety_equipment_2], ignore_index=True).sort_values('id')"
   ]
  },
  {
   "cell_type": "code",
   "execution_count": 12,
   "metadata": {},
   "outputs": [],
   "source": [
    "final_party_safety_equipment.to_csv(r'../party_equipped_with.csv',index=False)"
   ]
  },
  {
   "cell_type": "code",
   "execution_count": 13,
   "metadata": {},
   "outputs": [],
   "source": [
    "victim_safety_equipment_1 = victims[['id','victim_safety_equipment_1']].dropna()\n",
    "victim_safety_equipment_2 = victims[['id','victim_safety_equipment_2']].dropna()\n",
    "\n",
    "victim_safety_equipment_1.rename(columns = {'victim_safety_equipment_1':'safety_equipment'}, inplace = True)\n",
    "victim_safety_equipment_2.rename(columns = {'victim_safety_equipment_2':'safety_equipment'}, inplace = True)  "
   ]
  },
  {
   "cell_type": "code",
   "execution_count": 14,
   "metadata": {},
   "outputs": [],
   "source": [
    "final_victim_safety_equipment = pd.concat([victim_safety_equipment_1, victim_safety_equipment_2], ignore_index=True).sort_values('id')"
   ]
  },
  {
   "cell_type": "code",
   "execution_count": 15,
   "metadata": {},
   "outputs": [],
   "source": [
    "final_victim_safety_equipment.to_csv(r'../victim_equipped_with.csv',index=False)"
   ]
  }
 ],
 "metadata": {
  "kernelspec": {
   "display_name": "Python 3",
   "language": "python",
   "name": "python3"
  },
  "language_info": {
   "codemirror_mode": {
    "name": "ipython",
    "version": 3
   },
   "file_extension": ".py",
   "mimetype": "text/x-python",
   "name": "python",
   "nbconvert_exporter": "python",
   "pygments_lexer": "ipython3",
   "version": "3.8.5"
  }
 },
 "nbformat": 4,
 "nbformat_minor": 4
}
